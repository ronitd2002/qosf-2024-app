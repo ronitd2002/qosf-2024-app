{
 "cells": [
  {
   "cell_type": "markdown",
   "id": "1faab8f7",
   "metadata": {},
   "source": [
    "Task 3.1: ILP to QUBO"
   ]
  },
  {
   "cell_type": "code",
   "execution_count": 2,
   "id": "118270f3",
   "metadata": {},
   "outputs": [
    {
     "ename": "ModuleNotFoundError",
     "evalue": "No module named 'docplex'",
     "output_type": "error",
     "traceback": [
      "\u001b[0;31m---------------------------------------------------------------------------\u001b[0m",
      "\u001b[0;31mModuleNotFoundError\u001b[0m                       Traceback (most recent call last)",
      "Cell \u001b[0;32mIn[2], line 1\u001b[0m\n\u001b[0;32m----> 1\u001b[0m \u001b[38;5;28;01mfrom\u001b[39;00m \u001b[38;5;21;01mdocplex\u001b[39;00m\u001b[38;5;21;01m.\u001b[39;00m\u001b[38;5;21;01mmp\u001b[39;00m\u001b[38;5;21;01m.\u001b[39;00m\u001b[38;5;21;01mmodel\u001b[39;00m \u001b[38;5;28;01mimport\u001b[39;00m Model\n\u001b[1;32m      2\u001b[0m \u001b[38;5;28;01mimport\u001b[39;00m \u001b[38;5;21;01mdimod\u001b[39;00m\n\u001b[1;32m      3\u001b[0m \u001b[38;5;28;01mimport\u001b[39;00m \u001b[38;5;21;01mnumpy\u001b[39;00m \u001b[38;5;28;01mas\u001b[39;00m \u001b[38;5;21;01mnp\u001b[39;00m\n",
      "\u001b[0;31mModuleNotFoundError\u001b[0m: No module named 'docplex'"
     ]
    }
   ],
   "source": [
    "from docplex.mp.model import Model\n",
    "import dimod\n",
    "import numpy as np\n",
    "\n",
    "# ILP for BPP\n",
    "def ilp_bpp(weights, bin_capacity):\n",
    "    n = len(weights)\n",
    "    mdl = Model(\"BPP\")\n",
    "    x = {(i, j): mdl.binary_var() for i in range(n) for j in range(n)}\n",
    "    y = {j: mdl.binary_var() for j in range(n)}\n",
    "\n",
    "    for i in range(n):\n",
    "        mdl.add_constraint(mdl.sum(x[i, j] for j in range(n)) == 1)\n",
    "\n",
    "    for j in range(n):\n",
    "        mdl.add_constraint(mdl.sum(weights[i] * x[i, j] for i in range(n)) <= bin_capacity * y[j])\n",
    "\n",
    "    mdl.minimize(mdl.sum(y[j] for j in range(n)))\n",
    "    return mdl\n",
    "\n",
    "# Transform ILP to QUBO\n",
    "def ilp_to_qubo(weights, bin_capacity):\n",
    "    mdl = ilp_bpp(weights, bin_capacity)\n",
    "    qubo = mdl.to_qubo()\n",
    "    return qubo\n",
    "\n",
    "# Test with specific instances\n",
    "weights_small = [2, 5, 4, 7, 1, 3]\n",
    "weights_medium = [10, 15, 20, 10, 25, 30]\n",
    "weights_large = [25, 50, 40, 35, 20, 45, 55]\n",
    "bin_capacity_small = 10\n",
    "bin_capacity_medium = 50\n",
    "bin_capacity_large = 100\n",
    "\n",
    "qubo_small = ilp_to_qubo(weights_small, bin_capacity_small)\n",
    "qubo_medium = ilp_to_qubo(weights_medium, bin_capacity_medium)\n",
    "qubo_large = ilp_to_qubo(weights_large, bin_capacity_large)\n"
   ]
  },
  {
   "cell_type": "markdown",
   "id": "e62fefd1",
   "metadata": {},
   "source": [
    "Task 3.2: Brute Force Solver"
   ]
  },
  {
   "cell_type": "code",
   "execution_count": 3,
   "id": "40a38633",
   "metadata": {},
   "outputs": [],
   "source": [
    "def brute_force_solver(qubo):\n",
    "    min_energy = float('inf')\n",
    "    best_solution = None\n",
    "    for solution in dimod.ExactSolver().sample_qubo(qubo).data(['sample', 'energy']):\n",
    "        if solution.energy < min_energy:\n",
    "            min_energy = solution.energy\n",
    "            best_solution = solution.sample\n",
    "    return best_solution, min_energy"
   ]
  },
  {
   "cell_type": "markdown",
   "id": "ca079781",
   "metadata": {},
   "source": [
    "Task 3.3: Quantum Annealing with D-Wave"
   ]
  },
  {
   "cell_type": "code",
   "execution_count": 4,
   "id": "e7b03237",
   "metadata": {},
   "outputs": [],
   "source": [
    "from dwave.system import EmbeddingComposite, DWaveSampler\n",
    "\n",
    "def quantum_annealing(qubo):\n",
    "    sampler = EmbeddingComposite(DWaveSampler())\n",
    "    sampleset = sampler.sample_qubo(qubo, num_reads=100)\n",
    "    return sampleset.first.sample, sampleset.first.energy"
   ]
  },
  {
   "cell_type": "markdown",
   "id": "b24ea5f3",
   "metadata": {},
   "source": [
    "Task 3.4: Quantum Variational Ansatz"
   ]
  },
  {
   "cell_type": "code",
   "execution_count": 5,
   "id": "04c64b66",
   "metadata": {},
   "outputs": [
    {
     "ename": "ImportError",
     "evalue": "cannot import name 'Aer' from 'qiskit' (/home/ronit/.local/lib/python3.12/site-packages/qiskit/__init__.py)",
     "output_type": "error",
     "traceback": [
      "\u001b[0;31m---------------------------------------------------------------------------\u001b[0m",
      "\u001b[0;31mImportError\u001b[0m                               Traceback (most recent call last)",
      "Cell \u001b[0;32mIn[5], line 1\u001b[0m\n\u001b[0;32m----> 1\u001b[0m \u001b[38;5;28;01mfrom\u001b[39;00m \u001b[38;5;21;01mqiskit\u001b[39;00m \u001b[38;5;28;01mimport\u001b[39;00m Aer, QuantumCircuit\n\u001b[1;32m      2\u001b[0m \u001b[38;5;28;01mfrom\u001b[39;00m \u001b[38;5;21;01mqiskit\u001b[39;00m\u001b[38;5;21;01m.\u001b[39;00m\u001b[38;5;21;01mcircuit\u001b[39;00m \u001b[38;5;28;01mimport\u001b[39;00m Parameter\n\u001b[1;32m      3\u001b[0m \u001b[38;5;28;01mfrom\u001b[39;00m \u001b[38;5;21;01mqiskit\u001b[39;00m\u001b[38;5;21;01m.\u001b[39;00m\u001b[38;5;21;01malgorithms\u001b[39;00m\u001b[38;5;21;01m.\u001b[39;00m\u001b[38;5;21;01moptimizers\u001b[39;00m \u001b[38;5;28;01mimport\u001b[39;00m COBYLA\n",
      "\u001b[0;31mImportError\u001b[0m: cannot import name 'Aer' from 'qiskit' (/home/ronit/.local/lib/python3.12/site-packages/qiskit/__init__.py)"
     ]
    }
   ],
   "source": [
    "from qiskit import Aer, QuantumCircuit\n",
    "from qiskit.circuit import Parameter\n",
    "from qiskit.algorithms.optimizers import COBYLA\n",
    "from qiskit.opflow import PauliSumOp, Z, I\n",
    "from qiskit.utils import QuantumInstance\n",
    "from qiskit.algorithms import VQE\n",
    "\n",
    "def variational_ansatz(num_qubits, layers):\n",
    "    qc = QuantumCircuit(num_qubits)\n",
    "    for _ in range(layers):\n",
    "        for q in range(num_qubits):\n",
    "            theta = Parameter(f'θ{q}')\n",
    "            qc.rx(theta, q)\n",
    "            qc.ry(theta, q)\n",
    "        for q in range(num_qubits - 1):\n",
    "            qc.cx(q, q + 1)\n",
    "    return qc\n",
    "\n",
    "def solve_with_vqe(qubo, ansatz, shots=1024):\n",
    "    hamiltonian = PauliSumOp.from_list([(\"Z\" * len(qubo), coef) for (_, coef) in qubo.items()])\n",
    "    vqe = VQE(ansatz, optimizer=COBYLA(), quantum_instance=QuantumInstance(Aer.get_backend('aer_simulator')))\n",
    "    return vqe.compute_minimum_eigenvalue(hamiltonian).eigenvalue.real\n"
   ]
  },
  {
   "cell_type": "markdown",
   "id": "890893d7",
   "metadata": {},
   "source": [
    "Task 3.5: QAOA Solver"
   ]
  },
  {
   "cell_type": "code",
   "execution_count": 6,
   "id": "00c886c3",
   "metadata": {},
   "outputs": [
    {
     "ename": "ModuleNotFoundError",
     "evalue": "No module named 'qiskit.algorithms'",
     "output_type": "error",
     "traceback": [
      "\u001b[0;31m---------------------------------------------------------------------------\u001b[0m",
      "\u001b[0;31mModuleNotFoundError\u001b[0m                       Traceback (most recent call last)",
      "Cell \u001b[0;32mIn[6], line 1\u001b[0m\n\u001b[0;32m----> 1\u001b[0m \u001b[38;5;28;01mfrom\u001b[39;00m \u001b[38;5;21;01mqiskit\u001b[39;00m\u001b[38;5;21;01m.\u001b[39;00m\u001b[38;5;21;01malgorithms\u001b[39;00m \u001b[38;5;28;01mimport\u001b[39;00m QAOA\n\u001b[1;32m      2\u001b[0m \u001b[38;5;28;01mfrom\u001b[39;00m \u001b[38;5;21;01mqiskit\u001b[39;00m\u001b[38;5;21;01m.\u001b[39;00m\u001b[38;5;21;01mopflow\u001b[39;00m \u001b[38;5;28;01mimport\u001b[39;00m PauliSumOp\n\u001b[1;32m      3\u001b[0m \u001b[38;5;28;01mfrom\u001b[39;00m \u001b[38;5;21;01mqiskit\u001b[39;00m\u001b[38;5;21;01m.\u001b[39;00m\u001b[38;5;21;01malgorithms\u001b[39;00m\u001b[38;5;21;01m.\u001b[39;00m\u001b[38;5;21;01moptimizers\u001b[39;00m \u001b[38;5;28;01mimport\u001b[39;00m SPSA\n",
      "\u001b[0;31mModuleNotFoundError\u001b[0m: No module named 'qiskit.algorithms'"
     ]
    }
   ],
   "source": [
    "from qiskit.algorithms import QAOA\n",
    "from qiskit.opflow import PauliSumOp\n",
    "from qiskit.algorithms.optimizers import SPSA\n",
    "\n",
    "def qaoa_solver(qubo, p=2):\n",
    "    hamiltonian = PauliSumOp.from_list([(\"Z\" * len(qubo), coef) for (_, coef) in qubo.items()])\n",
    "    qaoa = QAOA(optimizer=SPSA(), reps=p, quantum_instance=QuantumInstance(Aer.get_backend('aer_simulator')))\n",
    "    result = qaoa.compute_minimum_eigenvalue(hamiltonian)\n",
    "    return result.eigenvalue.real\n"
   ]
  },
  {
   "cell_type": "markdown",
   "id": "c6bc1f80",
   "metadata": {},
   "source": [
    "Task 3.6: Comparison and Analysis"
   ]
  },
  {
   "cell_type": "code",
   "execution_count": 7,
   "id": "fa5bc58c",
   "metadata": {},
   "outputs": [
    {
     "ename": "NameError",
     "evalue": "name 'qubo_small' is not defined",
     "output_type": "error",
     "traceback": [
      "\u001b[0;31m---------------------------------------------------------------------------\u001b[0m",
      "\u001b[0;31mNameError\u001b[0m                                 Traceback (most recent call last)",
      "Cell \u001b[0;32mIn[7], line 2\u001b[0m\n\u001b[1;32m      1\u001b[0m \u001b[38;5;66;03m# Results and analysis\u001b[39;00m\n\u001b[0;32m----> 2\u001b[0m bf_solution, bf_energy \u001b[38;5;241m=\u001b[39m brute_force_solver(\u001b[43mqubo_small\u001b[49m)\n\u001b[1;32m      3\u001b[0m qa_solution, qa_energy \u001b[38;5;241m=\u001b[39m quantum_annealing(qubo_small)\n\u001b[1;32m      4\u001b[0m vqe_energy \u001b[38;5;241m=\u001b[39m solve_with_vqe(qubo_small, variational_ansatz(\u001b[38;5;28mlen\u001b[39m(qubo_small), \u001b[38;5;241m2\u001b[39m))\n",
      "\u001b[0;31mNameError\u001b[0m: name 'qubo_small' is not defined"
     ]
    }
   ],
   "source": [
    "# Results and analysis\n",
    "bf_solution, bf_energy = brute_force_solver(qubo_small)\n",
    "qa_solution, qa_energy = quantum_annealing(qubo_small)\n",
    "vqe_energy = solve_with_vqe(qubo_small, variational_ansatz(len(qubo_small), 2))\n",
    "qaoa_energy = qaoa_solver(qubo_small)\n",
    "\n",
    "print(\"Brute Force:\", bf_solution, bf_energy)\n",
    "print(\"Quantum Annealing:\", qa_solution, qa_energy)\n",
    "print(\"VQE Energy:\", vqe_energy)\n",
    "print(\"QAOA Energy:\", qaoa_energy)\n"
   ]
  },
  {
   "cell_type": "code",
   "execution_count": null,
   "id": "a70125dd",
   "metadata": {},
   "outputs": [],
   "source": []
  }
 ],
 "metadata": {
  "kernelspec": {
   "display_name": "Python 3 (ipykernel)",
   "language": "python",
   "name": "python3"
  },
  "language_info": {
   "codemirror_mode": {
    "name": "ipython",
    "version": 3
   },
   "file_extension": ".py",
   "mimetype": "text/x-python",
   "name": "python",
   "nbconvert_exporter": "python",
   "pygments_lexer": "ipython3",
   "version": "3.12.3"
  }
 },
 "nbformat": 4,
 "nbformat_minor": 5
}
