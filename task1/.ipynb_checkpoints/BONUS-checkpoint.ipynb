{
 "cells": [
  {
   "cell_type": "markdown",
   "id": "524dcc17",
   "metadata": {},
   "source": [
    "# Naive implementation of statevector simulation"
   ]
  },
  {
   "cell_type": "code",
   "execution_count": 72,
   "id": "c4f91fdf",
   "metadata": {},
   "outputs": [],
   "source": [
    "import numpy as np\n",
    "import matplotlib.pyplot as plt\n",
    "import time"
   ]
  },
  {
   "cell_type": "code",
   "execution_count": 73,
   "id": "fdfc0ce3",
   "metadata": {},
   "outputs": [],
   "source": [
    "# Gate Definitions\n",
    "X = np.array([[0, 1], [1, 0]])\n",
    "H = np.array([[1, 1], [1, -1]]) / np.sqrt(2)\n",
    "I = np.eye(2)\n",
    "CNOT = np.array([[1, 0, 0, 0],\n",
    "                 [0, 1, 0, 0],\n",
    "                 [0, 0, 0, 1],\n",
    "                 [0, 0, 1, 0]])"
   ]
  },
  {
   "cell_type": "code",
   "execution_count": 74,
   "id": "bf0fe9e6",
   "metadata": {},
   "outputs": [],
   "source": [
    "import pennylane as qml\n",
    "import pennylane.numpy as np"
   ]
  },
  {
   "cell_type": "markdown",
   "id": "d3b230ae",
   "metadata": {},
   "source": [
    "#### Quantum Circuit simulation using Pennylane"
   ]
  },
  {
   "cell_type": "code",
   "execution_count": 75,
   "id": "83038470",
   "metadata": {},
   "outputs": [],
   "source": [
    "def apply_quantum(qubits):\n",
    "    dev = qml.device(\"lightning.qubit\", wires=qubits)\n",
    "\n",
    "    @qml.qnode(dev)\n",
    "    def circuit(qubits):\n",
    "        for wire in range(qubits):\n",
    "            qml.QubitUnitary(X, wires=wire)\n",
    "            qml.QubitUnitary(H, wires=wire)\n",
    "        for wire in range(qubits-1):\n",
    "            qml.QubitUnitary(CNOT, wires=[wire,wire+1])\n",
    "        return qml.state()\n",
    "    \n",
    "    state = circuit(qubits)\n",
    "    return state"
   ]
  },
  {
   "cell_type": "code",
   "execution_count": 76,
   "id": "a8ce4df7",
   "metadata": {},
   "outputs": [
    {
     "data": {
      "text/plain": [
       "array([ 0.25+0.j, -0.25+0.j,  0.25+0.j, -0.25+0.j,  0.25+0.j, -0.25+0.j,\n",
       "        0.25+0.j, -0.25+0.j,  0.25+0.j, -0.25+0.j,  0.25+0.j, -0.25+0.j,\n",
       "        0.25+0.j, -0.25+0.j,  0.25+0.j, -0.25+0.j])"
      ]
     },
     "execution_count": 76,
     "metadata": {},
     "output_type": "execute_result"
    }
   ],
   "source": [
    "# Run Circuit with Matrix Multiplication\n",
    "state1 = apply_quantum(4)\n",
    "state1"
   ]
  },
  {
   "cell_type": "code",
   "execution_count": 77,
   "id": "5b0ee1ed",
   "metadata": {},
   "outputs": [],
   "source": [
    "# Runtime Plot\n",
    "qubits = range(1, 25)\n",
    "times = []\n",
    "states = []\n",
    "for n in qubits:\n",
    "    start = time.time()\n",
    "    states.append(apply_quantum(n))\n",
    "    times.append(time.time() - start)"
   ]
  },
  {
   "cell_type": "code",
   "execution_count": 78,
   "id": "a216d005",
   "metadata": {},
   "outputs": [
    {
     "data": {
      "image/png": "[encoded data removed]",
      "text/plain": [
       "<Figure size 1200x480 with 1 Axes>"
      ]
     },
     "metadata": {},
     "output_type": "display_data"
    }
   ],
   "source": [
    "plt.figure().set_figwidth(12)\n",
    "plt.grid()\n",
    "plt.plot(qubits, times,marker = \".\",ls = \"--\",c=\"b\")\n",
    "plt.xlabel('Number of Qubits')\n",
    "plt.ylabel('Runtime (s)')\n",
    "plt.show()"
   ]
  },
  {
   "cell_type": "markdown",
   "id": "47aefe25",
   "metadata": {},
   "source": [
    "# Task 1 : Subtask 1"
   ]
  },
  {
   "cell_type": "markdown",
   "id": "8a6037ef",
   "metadata": {},
   "source": [
    "### Using only matrix multiplication"
   ]
  },
  {
   "cell_type": "markdown",
   "id": "1289aa30",
   "metadata": {},
   "source": [
    "Direct sum function which would give the matrix direct sum $c = a \\oplus b$ for operator calculation for multi qubit states."
   ]
  },
  {
   "cell_type": "code",
   "execution_count": 79,
   "id": "3b099c9e",
   "metadata": {},
   "outputs": [],
   "source": [
    "def direct_sum(a, b):\n",
    "    m1, n1 = np.shape(a)\n",
    "    m2, n2 = np.shape(b)\n",
    "    c = np.zeros((m1 + m2, n1 + n2))\n",
    "    \n",
    "    c[:m1, :n1] = a   \n",
    "    c[m1:, n1:] = b\n",
    "    return c"
   ]
  },
  {
   "cell_type": "code",
   "execution_count": 80,
   "id": "02cfa603",
   "metadata": {},
   "outputs": [
    {
     "data": {
      "text/plain": [
       "tensor([[1., 0., 0., 0.],\n",
       "        [0., 1., 0., 0.],\n",
       "        [0., 0., 9., 9.],\n",
       "        [0., 0., 9., 9.]], requires_grad=True)"
      ]
     },
     "execution_count": 80,
     "metadata": {},
     "output_type": "execute_result"
    }
   ],
   "source": [
    "direct_sum([[1,0],[0,1]],[[9,9],[9,9]])"
   ]
  },
  {
   "cell_type": "code",
   "execution_count": 81,
   "id": "a82a3a28",
   "metadata": {},
   "outputs": [],
   "source": [
    "# so we already have our operators, now we will calculate time required for computation.\n",
    "def init_state(qubits):\n",
    "    state = [1+0j,0]\n",
    "    for _ in range(qubits-1):\n",
    "        state = np.kron(state,[1,0])\n",
    "    return state"
   ]
  },
  {
   "cell_type": "code",
   "execution_count": 82,
   "id": "65031d91",
   "metadata": {},
   "outputs": [
    {
     "name": "stdout",
     "output_type": "stream",
     "text": [
      "16\n"
     ]
    },
    {
     "data": {
      "text/plain": [
       "tensor([1.+0.j, 0.+0.j, 0.+0.j, 0.+0.j, 0.+0.j, 0.+0.j, 0.+0.j, 0.+0.j,\n",
       "        0.+0.j, 0.+0.j, 0.+0.j, 0.+0.j, 0.+0.j, 0.+0.j, 0.+0.j, 0.+0.j], requires_grad=True)"
      ]
     },
     "execution_count": 82,
     "metadata": {},
     "output_type": "execute_result"
    }
   ],
   "source": [
    "print(len(init_state(4)))\n",
    "init_state(4)"
   ]
  },
  {
   "cell_type": "code",
   "execution_count": 83,
   "id": "f5083627",
   "metadata": {},
   "outputs": [],
   "source": [
    "from qiskit import QuantumCircuit, transpile\n",
    "from qiskit_aer import Aer, AerSimulator\n",
    "from qiskit.quantum_info import Operator\n",
    "\n",
    "# function to calculate the cnot cascaded cnot operator for multiple qubits\n",
    "def cnot_op(qubits):\n",
    "    c = QuantumCircuit(qubits)\n",
    "    for i in range(qubits-1):\n",
    "        c.cx(i+1,i)\n",
    "    #print(c)\n",
    "    matrix = Operator.from_circuit(c)\n",
    "    return matrix.data"
   ]
  },
  {
   "cell_type": "code",
   "execution_count": 84,
   "id": "45e6cbfc",
   "metadata": {},
   "outputs": [
    {
     "name": "stdout",
     "output_type": "stream",
     "text": [
      "sample: cnot operator for 2 qubits\n"
     ]
    },
    {
     "data": {
      "text/plain": [
       "array([[1.+0.j, 0.+0.j, 0.+0.j, 0.+0.j],\n",
       "       [0.+0.j, 1.+0.j, 0.+0.j, 0.+0.j],\n",
       "       [0.+0.j, 0.+0.j, 0.+0.j, 1.+0.j],\n",
       "       [0.+0.j, 0.+0.j, 1.+0.j, 0.+0.j]])"
      ]
     },
     "execution_count": 84,
     "metadata": {},
     "output_type": "execute_result"
    }
   ],
   "source": [
    "print(\"sample: cnot operator for 2 qubits\")\n",
    "cnot_op(2)"
   ]
  },
  {
   "cell_type": "code",
   "execution_count": 85,
   "id": "8442998e",
   "metadata": {},
   "outputs": [
    {
     "data": {
      "text/plain": [
       "16"
      ]
     },
     "execution_count": 85,
     "metadata": {},
     "output_type": "execute_result"
    }
   ],
   "source": [
    "cnot_op(4).shape[0]"
   ]
  },
  {
   "cell_type": "code",
   "execution_count": 86,
   "id": "b7d8ef4b",
   "metadata": {},
   "outputs": [],
   "source": [
    "def apply_numpy(qubits):\n",
    "    initial_state = init_state(qubits)\n",
    "    xop= 1\n",
    "    hop= 1\n",
    "    cnotop = cnot_op(qubits)\n",
    "    state_vec = initial_state\n",
    "    for _ in range(qubits):\n",
    "        xop = np.kron(xop,X)\n",
    "        hop = np.kron(hop,H)\n",
    "    \n",
    "    state_vec = np.dot(np.dot(hop,xop),state_vec)\n",
    "    state_vec = np.dot(cnotop,state_vec)\n",
    "    return state_vec"
   ]
  },
  {
   "cell_type": "code",
   "execution_count": 87,
   "id": "4dd58da4",
   "metadata": {},
   "outputs": [
    {
     "data": {
      "text/plain": [
       "tensor([ 0.25+0.j, -0.25+0.j,  0.25+0.j, -0.25+0.j, -0.25+0.j,  0.25+0.j,\n",
       "        -0.25+0.j,  0.25+0.j,  0.25+0.j, -0.25+0.j,  0.25+0.j, -0.25+0.j,\n",
       "        -0.25+0.j,  0.25+0.j, -0.25+0.j,  0.25+0.j], requires_grad=True)"
      ]
     },
     "execution_count": 87,
     "metadata": {},
     "output_type": "execute_result"
    }
   ],
   "source": [
    "# Run Circuit with Matrix Multiplication\n",
    "state2 = apply_numpy(4)\n",
    "state2"
   ]
  },
  {
   "cell_type": "code",
   "execution_count": 88,
   "id": "7b9a16af",
   "metadata": {},
   "outputs": [],
   "source": [
    "# Runtime Plot\n",
    "qubits = range(1, 12)\n",
    "times = []\n",
    "states = []\n",
    "for n in qubits:\n",
    "    start = time.time()\n",
    "    states.append(apply_numpy(n))\n",
    "    times.append(time.time() - start)"
   ]
  },
  {
   "cell_type": "code",
   "execution_count": 89,
   "id": "d8e6f13e",
   "metadata": {
    "scrolled": true
   },
   "outputs": [
    {
     "data": {
      "image/png": "[encoded data removed]",
      "text/plain": [
       "<Figure size 1200x480 with 1 Axes>"
      ]
     },
     "metadata": {},
     "output_type": "display_data"
    }
   ],
   "source": [
    "plt.figure().set_figwidth(12)\n",
    "plt.grid()\n",
    "plt.plot(qubits, times,marker = \".\",ls = \"--\",c=\"b\")\n",
    "plt.xlabel('Number of Qubits')\n",
    "plt.ylabel('Runtime (s)')\n",
    "plt.show()"
   ]
  },
  {
   "cell_type": "markdown",
   "id": "433646f5",
   "metadata": {},
   "source": [
    "The simulation is run for max 12 qubits because classical matrix algrbra using the naive method beyond that limit becomes increasingly difficult."
   ]
  },
  {
   "cell_type": "markdown",
   "id": "f71348b5",
   "metadata": {},
   "source": [
    "## Without using the qiskit functionality for cnot gate"
   ]
  },
  {
   "cell_type": "code",
   "execution_count": 90,
   "id": "1501c272",
   "metadata": {},
   "outputs": [
    {
     "data": {
      "text/plain": [
       "4"
      ]
     },
     "execution_count": 90,
     "metadata": {},
     "output_type": "execute_result"
    }
   ],
   "source": [
    "np.shape(CNOT)[0]"
   ]
  },
  {
   "cell_type": "code",
   "execution_count": 91,
   "id": "ba00a70c",
   "metadata": {},
   "outputs": [],
   "source": [
    "def apply_numpy_without_qiskit(qubits):\n",
    "    initial_state = init_state(qubits)\n",
    "    xop = 1\n",
    "    hop = 1\n",
    "    cnotop = 1\n",
    "    state_vec = initial_state\n",
    "    \n",
    "    for _ in range(qubits):\n",
    "        xop = np.kron(xop,X)\n",
    "        hop = np.kron(hop,H)\n",
    "    for _ in range(qubits//2):\n",
    "        cnotop = np.kron(cnotop,CNOT)\n",
    "    \n",
    "    if not qubits%2==0 and qubits > 1:\n",
    "        dims = np.shape(cnotop)[0]\n",
    "        cnotop = direct_sum(np.eye(dims),cnotop)\n",
    "    \n",
    "    state_vec = np.dot(np.dot(hop,xop),state_vec)\n",
    "    state_vec = np.dot(cnotop,state_vec)\n",
    "    #print(cnotop)\n",
    "    return state_vec"
   ]
  },
  {
   "cell_type": "code",
   "execution_count": 92,
   "id": "e5b9a32c",
   "metadata": {},
   "outputs": [
    {
     "data": {
      "text/plain": [
       "tensor([ 0.25+0.j, -0.25+0.j,  0.25+0.j, -0.25+0.j, -0.25+0.j,  0.25+0.j,\n",
       "        -0.25+0.j,  0.25+0.j,  0.25+0.j, -0.25+0.j,  0.25+0.j, -0.25+0.j,\n",
       "        -0.25+0.j,  0.25+0.j, -0.25+0.j,  0.25+0.j], requires_grad=True)"
      ]
     },
     "execution_count": 92,
     "metadata": {},
     "output_type": "execute_result"
    }
   ],
   "source": [
    "# Run Circuit with Matrix Multiplication\n",
    "state2 = apply_numpy_without_qiskit(4)\n",
    "state2"
   ]
  },
  {
   "cell_type": "code",
   "execution_count": 93,
   "id": "84a21ba2",
   "metadata": {},
   "outputs": [
    {
     "data": {
      "text/plain": [
       "tensor([ 0.35355339+0.j, -0.35355339+0.j, -0.35355339+0.j,\n",
       "         0.35355339+0.j, -0.35355339+0.j,  0.35355339+0.j,\n",
       "        -0.35355339+0.j,  0.35355339+0.j], requires_grad=True)"
      ]
     },
     "execution_count": 93,
     "metadata": {},
     "output_type": "execute_result"
    }
   ],
   "source": [
    "# Run Circuit with Matrix Multiplication\n",
    "state3 = apply_numpy_without_qiskit(3)\n",
    "state3"
   ]
  },
  {
   "cell_type": "code",
   "execution_count": 94,
   "id": "bd548988",
   "metadata": {},
   "outputs": [],
   "source": [
    "# Runtime Plot\n",
    "qubits = range(1, 12)\n",
    "times_1 = []\n",
    "states_1 = []\n",
    "for n in qubits:\n",
    "    start = time.time()\n",
    "    states_1.append(apply_numpy(n))\n",
    "    times_1.append(time.time() - start)"
   ]
  },
  {
   "cell_type": "code",
   "execution_count": 95,
   "id": "f6fcae44",
   "metadata": {},
   "outputs": [],
   "source": [
    "# Runtime Plot\n",
    "qubits = range(1, 12)\n",
    "times_2 = []\n",
    "states_2 = []\n",
    "for n in qubits:\n",
    "    start = time.time()\n",
    "    states_1.append(apply_numpy_without_qiskit(n))\n",
    "    times_2.append(time.time() - start)"
   ]
  },
  {
   "cell_type": "code",
   "execution_count": 96,
   "id": "d405b1da",
   "metadata": {},
   "outputs": [
    {
     "data": {
      "image/png": "[encoded data removed]",
      "text/plain": [
       "<Figure size 1200x480 with 1 Axes>"
      ]
     },
     "metadata": {},
     "output_type": "display_data"
    }
   ],
   "source": [
    "plt.style.use(\"seaborn-v0_8-dark-palette\")\n",
    "plt.figure().set_figwidth(12)\n",
    "plt.grid()\n",
    "plt.plot(qubits, times_1,marker = \".\",ls = \"--\",label = \"using qiskit functionality for cnot gate\")\n",
    "plt.plot(qubits, times_2,marker = \".\",ls = \"--\",label = \"with plain numpy\")\n",
    "plt.xlabel('Number of Qubits')\n",
    "plt.ylabel('Runtime (s)')\n",
    "plt.legend()\n",
    "plt.show()"
   ]
  },
  {
   "cell_type": "code",
   "execution_count": 97,
   "id": "70340adf",
   "metadata": {},
   "outputs": [
    {
     "data": {
      "image/png": "[encoded data removed]",
      "text/plain": [
       "<Figure size 1200x480 with 1 Axes>"
      ]
     },
     "metadata": {},
     "output_type": "display_data"
    }
   ],
   "source": [
    "plt.style.use(\"seaborn-v0_8-dark-palette\")\n",
    "plt.figure().set_figwidth(12)\n",
    "plt.grid()\n",
    "plt.plot(qubits[8:], times_1[8:],marker = \".\",ls = \"--\",label = \"using qiskit functionality for cnot gate\")\n",
    "plt.plot(qubits[8:], times_2[8:],marker = \".\",ls = \"--\",label = \"with plain numpy\")\n",
    "plt.xlabel('Number of Qubits')\n",
    "plt.ylabel('Runtime (s)')\n",
    "plt.legend()\n",
    "plt.show()"
   ]
  },
  {
   "cell_type": "markdown",
   "id": "7f7bb82b",
   "metadata": {},
   "source": [
    "As expected the additional usage of qiskit to extract the CNOT gate takes slightly more time, although only for basic linear algebraic calculations still as is shown the time adds up."
   ]
  },
  {
   "cell_type": "markdown",
   "id": "b8e91399",
   "metadata": {},
   "source": [
    "# Tensor method"
   ]
  },
  {
   "cell_type": "markdown",
   "id": "df9c96bf",
   "metadata": {},
   "source": [
    "In this case instead of using the numpy method we use the tensor method where ibstead of using a 1D vector we use tensor shapes. Therefore instead of representing $|00\\rangle$ as `[1,0,0,0]`we instead represent it as `[[1,0],[1,0]]`."
   ]
  },
  {
   "cell_type": "markdown",
   "id": "838a225a",
   "metadata": {},
   "source": [
    "For the Tensor simulation program we convert every operator into a shape ((2,)* n). "
   ]
  },
  {
   "cell_type": "code",
   "execution_count": 98,
   "id": "dfc581d2",
   "metadata": {},
   "outputs": [
    {
     "data": {
      "text/plain": [
       "(array([[[[1.+0.j, 0.+0.j],\n",
       "          [0.+0.j, 0.+0.j]],\n",
       " \n",
       "         [[0.+0.j, 1.+0.j],\n",
       "          [0.+0.j, 0.+0.j]]],\n",
       " \n",
       " \n",
       "        [[[0.+0.j, 0.+0.j],\n",
       "          [0.+0.j, 1.+0.j]],\n",
       " \n",
       "         [[0.+0.j, 0.+0.j],\n",
       "          [1.+0.j, 0.+0.j]]]]),\n",
       " array([[0.+0.j, 1.+0.j],\n",
       "        [1.+0.j, 0.+0.j]]),\n",
       " array([[ 0.70710678+0.j,  0.70710678+0.j],\n",
       "        [ 0.70710678+0.j, -0.70710678+0.j]]),\n",
       " array([[1.+0.j, 0.+0.j],\n",
       "        [0.+0.j, 1.+0.j]]))"
      ]
     },
     "execution_count": 98,
     "metadata": {},
     "output_type": "execute_result"
    }
   ],
   "source": [
    "CNOT = CNOT.reshape([2]*4)+0j \n",
    "CNOT, X+0j, H+0j, I+0j"
   ]
  },
  {
   "cell_type": "code",
   "execution_count": 99,
   "id": "752ec7bb",
   "metadata": {},
   "outputs": [
    {
     "data": {
      "text/plain": [
       "tensor([[[1., 0.],\n",
       "         [0., 0.]],\n",
       "\n",
       "        [[0., 0.],\n",
       "         [0., 0.]]], requires_grad=True)"
      ]
     },
     "execution_count": 99,
     "metadata": {},
     "output_type": "execute_result"
    }
   ],
   "source": [
    "q = TensorCircuitSimulator(3)\n",
    "q.state"
   ]
  },
  {
   "cell_type": "code",
   "execution_count": 100,
   "id": "e543eda7",
   "metadata": {},
   "outputs": [
    {
     "data": {
      "text/plain": [
       "tensor([[[0., 0.],\n",
       "         [1., 0.]],\n",
       "\n",
       "        [[0., 0.],\n",
       "         [0., 0.]]], requires_grad=True)"
      ]
     },
     "execution_count": 100,
     "metadata": {},
     "output_type": "execute_result"
    }
   ],
   "source": [
    "q.apply_single_qubit_gate(X,1)\n",
    "q.state"
   ]
  },
  {
   "cell_type": "code",
   "execution_count": 101,
   "id": "b96594f1",
   "metadata": {},
   "outputs": [
    {
     "data": {
      "text/plain": [
       "(tensor([[[0., 0.],\n",
       "          [0., 0.]],\n",
       " \n",
       "         [[1., 0.],\n",
       "          [0., 0.]]], requires_grad=True),\n",
       " [1, 2, 0],\n",
       " (2, 2, 2))"
      ]
     },
     "execution_count": 101,
     "metadata": {},
     "output_type": "execute_result"
    }
   ],
   "source": [
    "control =1\n",
    "target = 2\n",
    "axes = list(range(q.n_qubits))\n",
    "axes.remove(control)\n",
    "axes.remove(target)\n",
    "axes = [control, target] + axes\n",
    "state = np.transpose(q.state, axes)\n",
    "state, axes, state.shape"
   ]
  },
  {
   "cell_type": "code",
   "execution_count": 102,
   "id": "9e18324f",
   "metadata": {},
   "outputs": [
    {
     "data": {
      "text/plain": [
       "tensor([[[0., 0.],\n",
       "         [0., 0.]],\n",
       "\n",
       "        [[1., 0.],\n",
       "         [0., 0.]]], requires_grad=True)"
      ]
     },
     "execution_count": 102,
     "metadata": {},
     "output_type": "execute_result"
    }
   ],
   "source": [
    "# Now operation is local, then restore order\n",
    "shape = state.shape\n",
    "state = state.reshape(2, 2, -1)  # Group other qubits\n",
    "state"
   ]
  },
  {
   "cell_type": "code",
   "execution_count": 103,
   "id": "69178a19",
   "metadata": {},
   "outputs": [
    {
     "data": {
      "text/plain": [
       "tensor([[[0.+0.j, 0.+0.j],\n",
       "         [0.+0.j, 1.+0.j]],\n",
       "\n",
       "        [[0.+0.j, 0.+0.j],\n",
       "         [0.+0.j, 0.+0.j]]], requires_grad=True)"
      ]
     },
     "execution_count": 103,
     "metadata": {},
     "output_type": "execute_result"
    }
   ],
   "source": [
    "state = np.tensordot(state, CNOT, axes=([0,1], [2,3]))\n",
    "state"
   ]
  },
  {
   "cell_type": "code",
   "execution_count": 104,
   "id": "bb372753",
   "metadata": {},
   "outputs": [],
   "source": [
    "class TensorCircuitSimulator:\n",
    "    def __init__(self, n_qubits):\n",
    "        self.n_qubits = n_qubits\n",
    "        self.state = np.zeros((2,) * n_qubits)\n",
    "        self.state[(0,) * n_qubits] = 1.0\n",
    "        \n",
    "    def apply_single_qubit_gate(self, gate, target):\n",
    "        # After tensordot, new axis is at end\n",
    "        self.state = np.tensordot(self.state, gate, axes=(target, 1))\n",
    "\n",
    "        # Move new axis from end to target position\n",
    "        axes = list(range(self.n_qubits))\n",
    "        axes.insert(target, self.n_qubits-1)\n",
    "        axes.pop()\n",
    "        self.state = np.transpose(self.state, axes)\n",
    "\n",
    "    def apply_cnot(self, control, target):\n",
    "        if len(self.state.shape) > 1:\n",
    "            # Rearrange to get control/target adjacent\n",
    "            axes = list(range(self.n_qubits))\n",
    "            axes.remove(control)\n",
    "            axes.remove(target)\n",
    "            axes = [control, target] + axes\n",
    "            state = np.transpose(self.state, axes)\n",
    "\n",
    "            # Now operation is local, then restore order\n",
    "            shape = state.shape\n",
    "            state = state.reshape(2, 2, -1)  # Group other qubits\n",
    "            state = np.tensordot(state, CNOT, axes=([0,1], [2,3]))"
   ]
  },
  {
   "cell_type": "code",
   "execution_count": 105,
   "id": "93ad659d",
   "metadata": {},
   "outputs": [],
   "source": [
    "def benchmark_tensor_simulation(max_qubits):\n",
    "    times = []\n",
    "    qubits = list(range(2, max_qubits + 1))\n",
    "    \n",
    "    for n in qubits:\n",
    "        start = time.time()\n",
    "        \n",
    "        # Create and run a test circuit\n",
    "        sim = TensorCircuitSimulator(n)\n",
    "        for i in range(n-1):\n",
    "            sim.apply_single_qubit_gate(X, i)\n",
    "            sim.apply_single_qubit_gate(H, 0)\n",
    "        \n",
    "        sim.apply_cnot(0, 1)\n",
    "        times.append(time.time() - start)\n",
    "    \n",
    "    plt.style.use(\"seaborn-v0_8-dark-palette\")\n",
    "    plt.figure().set_figwidth(12)\n",
    "    plt.plot(qubits, times, marker = \".\", ls = \"--\")\n",
    "    plt.xlabel('Number of qubits')\n",
    "    plt.ylabel('Runtime (seconds)')\n",
    "    # plt.yscale('log')\n",
    "    plt.grid()\n",
    "    plt.title('Tensor-based Quantum Circuit Simulation Runtime')\n",
    "    plt.show()\n",
    "    \n",
    "    return qubits, times"
   ]
  },
  {
   "cell_type": "code",
   "execution_count": null,
   "id": "ed72052d",
   "metadata": {},
   "outputs": [],
   "source": [
    "qubits, times = benchmark_tensor_simulation(25)"
   ]
  },
  {
   "cell_type": "markdown",
   "id": "c6ed0c9d",
   "metadata": {},
   "source": [
    "Major improvement as it runs for >25 qubits which would have been very difficult using traditional numpy implementation"
   ]
  },
  {
   "cell_type": "code",
   "execution_count": null,
   "id": "dd90735d",
   "metadata": {},
   "outputs": [],
   "source": []
  },
  {
   "cell_type": "markdown",
   "id": "a8a21863",
   "metadata": {},
   "source": [
    "## BONUS"
   ]
  },
  {
   "cell_type": "markdown",
   "id": "c6c4e72d",
   "metadata": {},
   "source": [
    "#### 1. Sampling Final states"
   ]
  },
  {
   "cell_type": "code",
   "execution_count": 71,
   "id": "d3564524",
   "metadata": {},
   "outputs": [
    {
     "ename": "NameError",
     "evalue": "name 'state_2' is not defined",
     "output_type": "error",
     "traceback": [
      "\u001b[0;31m---------------------------------------------------------------------------\u001b[0m",
      "\u001b[0;31mNameError\u001b[0m                                 Traceback (most recent call last)",
      "Cell \u001b[0;32mIn[71], line 1\u001b[0m\n\u001b[0;32m----> 1\u001b[0m \u001b[43mstate_2\u001b[49m\n",
      "\u001b[0;31mNameError\u001b[0m: name 'state_2' is not defined"
     ]
    }
   ],
   "source": [
    "state_2"
   ]
  },
  {
   "cell_type": "code",
   "execution_count": null,
   "id": "b50fe196",
   "metadata": {},
   "outputs": [],
   "source": []
  }
 ],
 "metadata": {
  "kernelspec": {
   "display_name": "Python 3 (ipykernel)",
   "language": "python",
   "name": "python3"
  },
  "language_info": {
   "codemirror_mode": {
    "name": "ipython",
    "version": 3
   },
   "file_extension": ".py",
   "mimetype": "text/x-python",
   "name": "python",
   "nbconvert_exporter": "python",
   "pygments_lexer": "ipython3",
   "version": "3.12.3"
  }
 },
 "nbformat": 4,
 "nbformat_minor": 5
}
