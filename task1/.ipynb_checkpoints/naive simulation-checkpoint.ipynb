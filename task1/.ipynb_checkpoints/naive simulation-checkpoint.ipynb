{
 "cells": [
  {
   "cell_type": "markdown",
   "id": "524dcc17",
   "metadata": {},
   "source": [
    "# Naive implementation of statevector simulation"
   ]
  },
  {
   "cell_type": "code",
   "execution_count": 1,
   "id": "c4f91fdf",
   "metadata": {},
   "outputs": [],
   "source": [
    "import numpy as np\n",
    "import matplotlib.pyplot as plt\n",
    "import time"
   ]
  },
  {
   "cell_type": "code",
   "execution_count": 2,
   "id": "fdfc0ce3",
   "metadata": {},
   "outputs": [],
   "source": [
    "# Gate Definitions\n",
    "X = np.array([[0, 1], [1, 0]])\n",
    "H = np.array([[1, 1], [1, -1]]) / np.sqrt(2)\n",
    "I = np.eye(2)\n",
    "CNOT = np.array([[1, 0, 0, 0],\n",
    "                 [0, 1, 0, 0],\n",
    "                 [0, 0, 0, 1],\n",
    "                 [0, 0, 1, 0]])"
   ]
  },
  {
   "cell_type": "code",
   "execution_count": 3,
   "id": "bf0fe9e6",
   "metadata": {},
   "outputs": [],
   "source": [
    "import pennylane as qml\n",
    "import pennylane.numpy as np"
   ]
  },
  {
   "cell_type": "markdown",
   "id": "d3b230ae",
   "metadata": {},
   "source": [
    "#### Quantum Circuit simulation using Pennylane"
   ]
  },
  {
   "cell_type": "code",
   "execution_count": 40,
   "id": "83038470",
   "metadata": {},
   "outputs": [],
   "source": [
    "def apply_quantum(qubits):\n",
    "    dev = qml.device(\"lightning.qubit\", wires=qubits)\n",
    "\n",
    "    @qml.qnode(dev)\n",
    "    def circuit(qubits):\n",
    "        for wire in range(qubits-1):\n",
    "            qml.QubitUnitary(X, wires=wire)\n",
    "            qml.QubitUnitary(H, wires=wire)\n",
    "            qml.QubitUnitary(CNOT, wires=[wire,wire+1])\n",
    "        qml.QubitUnitary(X, wires=qubits-1)\n",
    "        qml.QubitUnitary(H, wires=qubits-1)\n",
    "        return qml.state()\n",
    "    \n",
    "    state = circuit(qubits)\n",
    "    return state"
   ]
  },
  {
   "cell_type": "code",
   "execution_count": 41,
   "id": "a8ce4df7",
   "metadata": {},
   "outputs": [
    {
     "data": {
      "text/plain": [
       "array([ 0.25+0.j, -0.25+0.j, -0.25+0.j, -0.25+0.j, -0.25+0.j,  0.25+0.j,\n",
       "       -0.25+0.j, -0.25+0.j, -0.25+0.j,  0.25+0.j,  0.25+0.j,  0.25+0.j,\n",
       "       -0.25+0.j,  0.25+0.j, -0.25+0.j, -0.25+0.j])"
      ]
     },
     "execution_count": 41,
     "metadata": {},
     "output_type": "execute_result"
    }
   ],
   "source": [
    "# Run Circuit with Matrix Multiplication\n",
    "state1 = apply_quantum(4)\n",
    "state1"
   ]
  },
  {
   "cell_type": "code",
   "execution_count": 42,
   "id": "5b0ee1ed",
   "metadata": {},
   "outputs": [
    {
     "data": {
      "image/png": "[encoded data removed]",
      "text/plain": [
       "<Figure size 640x480 with 1 Axes>"
      ]
     },
     "metadata": {},
     "output_type": "display_data"
    }
   ],
   "source": [
    "# Runtime Plot\n",
    "qubits = range(1, 12)\n",
    "times = []\n",
    "states = []\n",
    "for n in qubits:\n",
    "    start = time.time()\n",
    "    states.append(apply_quantum(n))\n",
    "    times.append(time.time() - start)\n",
    "\n",
    "plt.plot(qubits, times,marker = \".\",ls = \"--\",c=\"b\")\n",
    "plt.xlabel('Number of Qubits')\n",
    "plt.ylabel('Runtime (s)')\n",
    "plt.show()"
   ]
  },
  {
   "cell_type": "markdown",
   "id": "8a6037ef",
   "metadata": {},
   "source": [
    "### Using only matrix multiplication"
   ]
  },
  {
   "cell_type": "code",
   "execution_count": 43,
   "id": "3b099c9e",
   "metadata": {},
   "outputs": [],
   "source": [
    "def direct_sum(a, b):\n",
    "    m1, n1 = a.shape\n",
    "    m2, n2 = b.shape\n",
    "    c = np.zeros((m1 + m2, n1 + n2))\n",
    "    \n",
    "    c[:m1, :n1] = a   \n",
    "    c[m1:, n1:] = b\n",
    "    return c"
   ]
  },
  {
   "cell_type": "code",
   "execution_count": 44,
   "id": "a82a3a28",
   "metadata": {},
   "outputs": [],
   "source": [
    "# so we already have our operators, now we will calculate time required for computation.\n",
    "\n",
    "def init_state(qubits):\n",
    "    state = [1,0]\n",
    "    for _ in range(qubits-1):\n",
    "        state = np.kron(state,[1,0])\n",
    "    return state"
   ]
  },
  {
   "cell_type": "code",
   "execution_count": 45,
   "id": "f5083627",
   "metadata": {},
   "outputs": [],
   "source": [
    "from qiskit import QuantumCircuit, transpile\n",
    "from qiskit_aer import Aer, AerSimulator\n",
    "from qiskit.quantum_info import Operator\n",
    "\n",
    "def cnot_op(qubits):\n",
    "    c = QuantumCircuit(qubits)\n",
    "    for i in range(qubits-1):\n",
    "        c.cx(i+1,i)  \n",
    "    #gate = c.to_gate()\n",
    "    #matrix = c.to_matrix()\n",
    "    matrix = Operator.from_circuit(c)\n",
    "    return matrix.data"
   ]
  },
  {
   "cell_type": "code",
   "execution_count": 46,
   "id": "45e6cbfc",
   "metadata": {},
   "outputs": [
    {
     "name": "stdout",
     "output_type": "stream",
     "text": [
      "[[1.+0.j 0.+0.j 0.+0.j 0.+0.j]\n",
      " [0.+0.j 1.+0.j 0.+0.j 0.+0.j]\n",
      " [0.+0.j 0.+0.j 0.+0.j 1.+0.j]\n",
      " [0.+0.j 0.+0.j 1.+0.j 0.+0.j]]\n"
     ]
    }
   ],
   "source": [
    "print(cnot_op(2))"
   ]
  },
  {
   "cell_type": "code",
   "execution_count": 47,
   "id": "b7d8ef4b",
   "metadata": {},
   "outputs": [],
   "source": [
    "def apply_numpy(qubits):\n",
    "    initial = init_state(qubits)\n",
    "    xop= 1\n",
    "    hop= 1\n",
    "    cnotop = cnot_op(qubits)\n",
    "    for _ in range(qubits):\n",
    "        xop = np.kron(xop,X)\n",
    "        hop = np.kron(hop,H)\n",
    "    \n",
    "    state_vec = np.dot(xop,initial)\n",
    "    state_vec = np.dot(hop,state_vec)\n",
    "    state_vec = np.dot(cnotop,state_vec)\n",
    "    \n",
    "    return state_vec"
   ]
  },
  {
   "cell_type": "code",
   "execution_count": 48,
   "id": "4dd58da4",
   "metadata": {},
   "outputs": [
    {
     "data": {
      "text/plain": [
       "tensor([ 0.25+0.j, -0.25+0.j,  0.25+0.j, -0.25+0.j, -0.25+0.j,  0.25+0.j,\n",
       "        -0.25+0.j,  0.25+0.j,  0.25+0.j, -0.25+0.j,  0.25+0.j, -0.25+0.j,\n",
       "        -0.25+0.j,  0.25+0.j, -0.25+0.j,  0.25+0.j], requires_grad=True)"
      ]
     },
     "execution_count": 48,
     "metadata": {},
     "output_type": "execute_result"
    }
   ],
   "source": [
    "# Run Circuit with Matrix Multiplication\n",
    "state2 = apply_numpy(4)\n",
    "state2"
   ]
  },
  {
   "cell_type": "markdown",
   "id": "43c69acd",
   "metadata": {},
   "source": [
    "^^ in the tensor result above the apply function should give the same value for both quantum and numpy methods but upon closer inspection some signs are wrong. please check code and source of error."
   ]
  },
  {
   "cell_type": "code",
   "execution_count": 49,
   "id": "7b9a16af",
   "metadata": {},
   "outputs": [
    {
     "data": {
      "image/png": "[encoded data removed]",
      "text/plain": [
       "<Figure size 640x480 with 1 Axes>"
      ]
     },
     "metadata": {},
     "output_type": "display_data"
    }
   ],
   "source": [
    "# Runtime Plot\n",
    "qubits = range(1, 12)\n",
    "times = []\n",
    "states = []\n",
    "for n in qubits:\n",
    "    start = time.time()\n",
    "    states.append(apply_numpy(n))\n",
    "    times.append(time.time() - start)\n",
    "\n",
    "plt.plot(qubits, times,marker = \".\",ls = \"--\",c=\"b\")\n",
    "plt.xlabel('Number of Qubits')\n",
    "plt.ylabel('Runtime (s)')\n",
    "plt.show()"
   ]
  },
  {
   "cell_type": "code",
   "execution_count": null,
   "id": "618db745",
   "metadata": {},
   "outputs": [],
   "source": []
  }
 ],
 "metadata": {
  "kernelspec": {
   "display_name": "Python 3 (ipykernel)",
   "language": "python",
   "name": "python3"
  },
  "language_info": {
   "codemirror_mode": {
    "name": "ipython",
    "version": 3
   },
   "file_extension": ".py",
   "mimetype": "text/x-python",
   "name": "python",
   "nbconvert_exporter": "python",
   "pygments_lexer": "ipython3",
   "version": "3.12.3"
  }
 },
 "nbformat": 4,
 "nbformat_minor": 5
}
