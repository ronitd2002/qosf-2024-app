{
 "cells": [
  {
   "cell_type": "markdown",
   "id": "524dcc17",
   "metadata": {},
   "source": [
    "# Naive implementation of statevector simulation"
   ]
  },
  {
   "cell_type": "code",
   "execution_count": 1,
   "id": "c4f91fdf",
   "metadata": {},
   "outputs": [],
   "source": [
    "import numpy as np\n",
    "import matplotlib.pyplot as plt\n",
    "import time"
   ]
  },
  {
   "cell_type": "code",
   "execution_count": 2,
   "id": "fdfc0ce3",
   "metadata": {},
   "outputs": [],
   "source": [
    "# Gate Definitions\n",
    "X = np.array([[0, 1], [1, 0]])\n",
    "H = np.array([[1, 1], [1, -1]]) / np.sqrt(2)\n",
    "I = np.eye(2)\n",
    "CNOT = np.array([[1, 0, 0, 0],\n",
    "                 [0, 1, 0, 0],\n",
    "                 [0, 0, 0, 1],\n",
    "                 [0, 0, 1, 0]])"
   ]
  },
  {
   "cell_type": "code",
   "execution_count": 3,
   "id": "bf0fe9e6",
   "metadata": {},
   "outputs": [],
   "source": [
    "import pennylane as qml\n",
    "#import pennylane.numpy as np"
   ]
  },
  {
   "cell_type": "markdown",
   "id": "d3b230ae",
   "metadata": {},
   "source": [
    "#### Quantum Circuit simulation using Pennylane"
   ]
  },
  {
   "cell_type": "code",
   "execution_count": 4,
   "id": "83038470",
   "metadata": {},
   "outputs": [],
   "source": [
    "def apply_quantum(qubits):\n",
    "    dev = qml.device(\"default.qubit\", wires=qubits)\n",
    "\n",
    "    @qml.qnode(dev)\n",
    "    def circuit(qubits):\n",
    "        for wire in range(qubits-1):\n",
    "            qml.QubitUnitary(X, wires=wire)\n",
    "            qml.QubitUnitary(H, wires=wire)\n",
    "            qml.QubitUnitary(CNOT, wires=[wire,wire+1])\n",
    "        qml.QubitUnitary(X, wires=qubits-1)\n",
    "        qml.QubitUnitary(H, wires=qubits-1)\n",
    "        return qml.state()\n",
    "    \n",
    "    state = circuit(qubits)\n",
    "    return state"
   ]
  },
  {
   "cell_type": "code",
   "execution_count": 5,
   "id": "a8ce4df7",
   "metadata": {},
   "outputs": [
    {
     "data": {
      "text/plain": [
       "tensor([ 0.25+0.j, -0.25+0.j, -0.25+0.j, -0.25+0.j, -0.25+0.j,  0.25+0.j,\n",
       "        -0.25+0.j, -0.25+0.j, -0.25+0.j,  0.25+0.j,  0.25+0.j,  0.25+0.j,\n",
       "        -0.25+0.j,  0.25+0.j, -0.25+0.j, -0.25+0.j], requires_grad=True)"
      ]
     },
     "execution_count": 5,
     "metadata": {},
     "output_type": "execute_result"
    }
   ],
   "source": [
    "# Run Circuit with Matrix Multiplication\n",
    "state1 = apply_quantum(4)\n",
    "state1"
   ]
  },
  {
   "cell_type": "code",
   "execution_count": 6,
   "id": "5b0ee1ed",
   "metadata": {},
   "outputs": [
    {
     "data": {
      "image/png": "[encoded data removed]",
      "text/plain": [
       "<Figure size 640x480 with 1 Axes>"
      ]
     },
     "metadata": {},
     "output_type": "display_data"
    }
   ],
   "source": [
    "# Runtime Plot\n",
    "qubits = range(1, 12)\n",
    "times = []\n",
    "states = []\n",
    "for n in qubits:\n",
    "    start = time.time()\n",
    "    states.append(apply_quantum(n))\n",
    "    times.append(time.time() - start)\n",
    "\n",
    "plt.plot(qubits, times,marker = \".\",ls = \"--\",c=\"b\")\n",
    "plt.xlabel('Number of Qubits')\n",
    "plt.ylabel('Runtime (s)')\n",
    "plt.show()"
   ]
  },
  {
   "cell_type": "markdown",
   "id": "8a6037ef",
   "metadata": {},
   "source": [
    "### Using only matrix multiplication"
   ]
  },
  {
   "cell_type": "code",
   "execution_count": 38,
   "id": "3b099c9e",
   "metadata": {},
   "outputs": [],
   "source": [
    "def direct_sum(a, b):\n",
    "    m1, n1 = a.shape\n",
    "    m2, n2 = b.shape\n",
    "    c = np.zeros((m1 + m2, n1 + n2))\n",
    "    \n",
    "    c[:m1, :n1] = a   \n",
    "    c[m1:, n1:] = b\n",
    "    return c"
   ]
  },
  {
   "cell_type": "code",
   "execution_count": 39,
   "id": "a82a3a28",
   "metadata": {},
   "outputs": [],
   "source": [
    "# so we already have our operators, now we will calculate time required for computation.\n",
    "\n",
    "def init_state(qubits):\n",
    "    state = [1,0]\n",
    "    for _ in range(qubits-1):\n",
    "        state = np.kron(state,[1,0])\n",
    "    return state"
   ]
  },
  {
   "cell_type": "code",
   "execution_count": 40,
   "id": "f5083627",
   "metadata": {},
   "outputs": [],
   "source": [
    "from qiskit import QuantumCircuit, transpile\n",
    "from qiskit_aer import Aer, AerSimulator\n",
    "from qiskit.quantum_info import Operator\n",
    "\n",
    "def cnot_op(qubits):\n",
    "    c = QuantumCircuit(qubits)\n",
    "    for i in range(qubits-1):\n",
    "        c.cx(i+1,i)  \n",
    "    #gate = c.to_gate()\n",
    "    #matrix = c.to_matrix()\n",
    "    matrix = Operator.from_circuit(c)\n",
    "    return matrix.data"
   ]
  },
  {
   "cell_type": "code",
   "execution_count": 41,
   "id": "45e6cbfc",
   "metadata": {},
   "outputs": [
    {
     "name": "stdout",
     "output_type": "stream",
     "text": [
      "[[1.+0.j 0.+0.j 0.+0.j 0.+0.j]\n",
      " [0.+0.j 1.+0.j 0.+0.j 0.+0.j]\n",
      " [0.+0.j 0.+0.j 0.+0.j 1.+0.j]\n",
      " [0.+0.j 0.+0.j 1.+0.j 0.+0.j]]\n"
     ]
    }
   ],
   "source": [
    "print(cnot_op(2))"
   ]
  },
  {
   "cell_type": "code",
   "execution_count": 42,
   "id": "b7d8ef4b",
   "metadata": {},
   "outputs": [],
   "source": [
    "def apply_numpy(qubits):\n",
    "    initial = init_state(qubits)\n",
    "    xop= 1\n",
    "    hop= 1\n",
    "    cnotop = cnot_op(qubits)\n",
    "    for _ in range(qubits):\n",
    "        xop = np.kron(xop,X)\n",
    "        hop = np.kron(hop,H)\n",
    "    \n",
    "    state_vec = np.dot(xop,initial)\n",
    "    state_vec = np.dot(hop,state_vec)\n",
    "    state_vec = np.dot(cnotop,state_vec)\n",
    "    \n",
    "    return state_vec"
   ]
  },
  {
   "cell_type": "code",
   "execution_count": 43,
   "id": "4dd58da4",
   "metadata": {},
   "outputs": [
    {
     "data": {
      "text/plain": [
       "array([ 0.25+0.j, -0.25+0.j,  0.25+0.j, -0.25+0.j, -0.25+0.j,  0.25+0.j,\n",
       "       -0.25+0.j,  0.25+0.j,  0.25+0.j, -0.25+0.j,  0.25+0.j, -0.25+0.j,\n",
       "       -0.25+0.j,  0.25+0.j, -0.25+0.j,  0.25+0.j])"
      ]
     },
     "execution_count": 43,
     "metadata": {},
     "output_type": "execute_result"
    }
   ],
   "source": [
    "# Run Circuit with Matrix Multiplication\n",
    "state2 = apply_numpy(4)\n",
    "state2"
   ]
  },
  {
   "cell_type": "code",
   "execution_count": 44,
   "id": "7b9a16af",
   "metadata": {},
   "outputs": [
    {
     "data": {
      "image/png": "[encoded data removed]",
      "text/plain": [
       "<Figure size 640x480 with 1 Axes>"
      ]
     },
     "metadata": {},
     "output_type": "display_data"
    }
   ],
   "source": [
    "# Runtime Plot\n",
    "qubits = range(1, 12)\n",
    "times = []\n",
    "states = []\n",
    "for n in qubits:\n",
    "    start = time.time()\n",
    "    states.append(apply_numpy(n))\n",
    "    times.append(time.time() - start)\n",
    "\n",
    "plt.plot(qubits, times,marker = \".\",ls = \"--\",c=\"b\")\n",
    "plt.xlabel('Number of Qubits')\n",
    "plt.ylabel('Runtime (s)')\n",
    "plt.show()"
   ]
  },
  {
   "cell_type": "markdown",
   "id": "6f0187cd",
   "metadata": {},
   "source": [
    "## Tensor method"
   ]
  },
  {
   "cell_type": "markdown",
   "id": "ed2d5b90",
   "metadata": {},
   "source": [
    "In this case instead of using the numpy method we use the tensor method where ibstead of using a 1D vector we use tensor shapes. Therefore instead of representing $|00\\rangle$ as `[1,0,0,0]`we instead represent it as `[[1,0],[1,0]]`."
   ]
  },
  {
   "cell_type": "code",
   "execution_count": 45,
   "id": "1934caf3",
   "metadata": {},
   "outputs": [],
   "source": [
    "def tensor_apply(state, gate, target, n):\n",
    "    axes = [target] + list(range(target)) + list(range(target + 1, n))\n",
    "    gate_expanded = np.tensordot(gate, state, axes=(1, target))\n",
    "    return np.reshape(gate_expanded, state.shape)"
   ]
  },
  {
   "cell_type": "code",
   "execution_count": 46,
   "id": "ed756c40",
   "metadata": {},
   "outputs": [],
   "source": [
    "def run_tensor_circuit(n):\n",
    "    state = np.zeros((2,) * n)\n",
    "    state[(0,) * n] = 1\n",
    "    state = tensor_apply(state, X, 0, n)\n",
    "    state = tensor_apply(state, H, 0, n)\n",
    "    #if n > 1:\n",
    "    #   state = tensor_apply(state, CNOT, 0, n)\n",
    "    return state"
   ]
  },
  {
   "cell_type": "code",
   "execution_count": 47,
   "id": "549622fd",
   "metadata": {},
   "outputs": [],
   "source": [
    "qubits = range(1, 12)\n",
    "times_tensor = []\n",
    "states_tensor = []\n",
    "for n in qubits:\n",
    "    start = time.time()\n",
    "    states_tensor.append(run_tensor_circuit(n))    \n",
    "    times_tensor.append(time.time() - start)"
   ]
  },
  {
   "cell_type": "code",
   "execution_count": 53,
   "id": "cdaf87e3",
   "metadata": {},
   "outputs": [
    {
     "data": {
      "image/png": "[encoded data removed]",
      "text/plain": [
       "<Figure size 640x480 with 1 Axes>"
      ]
     },
     "metadata": {},
     "output_type": "display_data"
    }
   ],
   "source": [
    "plt.plot(qubits, times_tensor, label=\"Tensor Multiplication\",marker = \".\",ls = \"--\",c=\"b\")\n",
    "plt.plot(qubits, times, label=\"Matrix Multiplication\",marker = \".\",ls = \"--\",c=\"black\")\n",
    "plt.xlabel('Number of Qubits')\n",
    "plt.ylabel('Runtime (s)')\n",
    "plt.legend()\n",
    "plt.show()"
   ]
  },
  {
   "cell_type": "code",
   "execution_count": 27,
   "id": "525ed387",
   "metadata": {},
   "outputs": [
    {
     "data": {
      "text/plain": [
       "array([[[[ 0.70710678,  0.        ],\n",
       "         [ 0.        ,  0.        ]],\n",
       "\n",
       "        [[ 0.        ,  0.        ],\n",
       "         [ 0.        ,  0.        ]]],\n",
       "\n",
       "\n",
       "       [[[-0.70710678,  0.        ],\n",
       "         [ 0.        ,  0.        ]],\n",
       "\n",
       "        [[ 0.        ,  0.        ],\n",
       "         [ 0.        ,  0.        ]]]])"
      ]
     },
     "execution_count": 27,
     "metadata": {},
     "output_type": "execute_result"
    }
   ],
   "source": [
    "states_tensor[3]"
   ]
  },
  {
   "cell_type": "code",
   "execution_count": 33,
   "id": "f6d70398",
   "metadata": {},
   "outputs": [],
   "source": [
    "def init_tensor(qubits):\n",
    "    init = np.reshape([1,0]*qubits, [qubits,2])\n",
    "    return init\n",
    "\n",
    "def tensormethod(qubits):\n",
    "    \n",
    "    state = init_tensor(qubits)\n",
    "    \n",
    "    for i in range(qubits-1):\n",
    "        state = np.dot(X,np.reshape(state[i:i+1],[2,1]))#,axes=1)\n",
    "        state = np.dot(H,np.reshape(state[i:i+1],[2,1]))#,axes=1)\n",
    "        #if state[i:i+1][1] != 0\n",
    "        #    state = np.tensordot(CNOT, np.flatten(state[i:i+2]), axes=1) # HERE we have a problem\n",
    "    #state = np.tensordot(x_t, state, axes=1)\n",
    "    #state = np.tensordot(h_t, state, axes=1)\n",
    "    \n",
    "    return state"
   ]
  },
  {
   "cell_type": "code",
   "execution_count": 34,
   "id": "aee1b3df",
   "metadata": {},
   "outputs": [
    {
     "name": "stdout",
     "output_type": "stream",
     "text": [
      "[[1 0]]\n"
     ]
    }
   ],
   "source": [
    "state = init_tensor(3)\n",
    "#print(state[1:3])\n",
    "print(state[1:2])\n",
    "#print(state[2:3])"
   ]
  },
  {
   "cell_type": "code",
   "execution_count": 35,
   "id": "451bbe1e",
   "metadata": {},
   "outputs": [
    {
     "data": {
      "text/plain": [
       "array([[0],\n",
       "       [1]])"
      ]
     },
     "execution_count": 35,
     "metadata": {},
     "output_type": "execute_result"
    }
   ],
   "source": [
    "np.dot(X,np.reshape(state[1:2],[2,1]))#,axes=1)"
   ]
  },
  {
   "cell_type": "code",
   "execution_count": 36,
   "id": "094f5314",
   "metadata": {},
   "outputs": [
    {
     "ename": "ValueError",
     "evalue": "cannot reshape array of size 1 into shape (2,1)",
     "output_type": "error",
     "traceback": [
      "\u001b[0;31m---------------------------------------------------------------------------\u001b[0m",
      "\u001b[0;31mValueError\u001b[0m                                Traceback (most recent call last)",
      "Cell \u001b[0;32mIn[36], line 1\u001b[0m\n\u001b[0;32m----> 1\u001b[0m \u001b[43mtensormethod\u001b[49m\u001b[43m(\u001b[49m\u001b[38;5;241;43m3\u001b[39;49m\u001b[43m)\u001b[49m\n",
      "Cell \u001b[0;32mIn[33], line 11\u001b[0m, in \u001b[0;36mtensormethod\u001b[0;34m(qubits)\u001b[0m\n\u001b[1;32m      9\u001b[0m \u001b[38;5;28;01mfor\u001b[39;00m i \u001b[38;5;129;01min\u001b[39;00m \u001b[38;5;28mrange\u001b[39m(qubits\u001b[38;5;241m-\u001b[39m\u001b[38;5;241m1\u001b[39m):\n\u001b[1;32m     10\u001b[0m     state \u001b[38;5;241m=\u001b[39m np\u001b[38;5;241m.\u001b[39mdot(X,np\u001b[38;5;241m.\u001b[39mreshape(state[i:i\u001b[38;5;241m+\u001b[39m\u001b[38;5;241m1\u001b[39m],[\u001b[38;5;241m2\u001b[39m,\u001b[38;5;241m1\u001b[39m]))\u001b[38;5;66;03m#,axes=1)\u001b[39;00m\n\u001b[0;32m---> 11\u001b[0m     state \u001b[38;5;241m=\u001b[39m np\u001b[38;5;241m.\u001b[39mdot(H,\u001b[43mnp\u001b[49m\u001b[38;5;241;43m.\u001b[39;49m\u001b[43mreshape\u001b[49m\u001b[43m(\u001b[49m\u001b[43mstate\u001b[49m\u001b[43m[\u001b[49m\u001b[43mi\u001b[49m\u001b[43m:\u001b[49m\u001b[43mi\u001b[49m\u001b[38;5;241;43m+\u001b[39;49m\u001b[38;5;241;43m1\u001b[39;49m\u001b[43m]\u001b[49m\u001b[43m,\u001b[49m\u001b[43m[\u001b[49m\u001b[38;5;241;43m2\u001b[39;49m\u001b[43m,\u001b[49m\u001b[38;5;241;43m1\u001b[39;49m\u001b[43m]\u001b[49m\u001b[43m)\u001b[49m)\u001b[38;5;66;03m#,axes=1)\u001b[39;00m\n\u001b[1;32m     12\u001b[0m     \u001b[38;5;66;03m#if state[i:i+1][1] != 0\u001b[39;00m\n\u001b[1;32m     13\u001b[0m     \u001b[38;5;66;03m#    state = np.tensordot(CNOT, np.flatten(state[i:i+2]), axes=1) # HERE we have a problem\u001b[39;00m\n\u001b[1;32m     14\u001b[0m \u001b[38;5;66;03m#state = np.tensordot(x_t, state, axes=1)\u001b[39;00m\n\u001b[1;32m     15\u001b[0m \u001b[38;5;66;03m#state = np.tensordot(h_t, state, axes=1)\u001b[39;00m\n\u001b[1;32m     17\u001b[0m \u001b[38;5;28;01mreturn\u001b[39;00m state\n",
      "File \u001b[0;32m/usr/lib/python3/dist-packages/numpy/core/fromnumeric.py:285\u001b[0m, in \u001b[0;36mreshape\u001b[0;34m(a, newshape, order)\u001b[0m\n\u001b[1;32m    200\u001b[0m \u001b[38;5;129m@array_function_dispatch\u001b[39m(_reshape_dispatcher)\n\u001b[1;32m    201\u001b[0m \u001b[38;5;28;01mdef\u001b[39;00m \u001b[38;5;21mreshape\u001b[39m(a, newshape, order\u001b[38;5;241m=\u001b[39m\u001b[38;5;124m'\u001b[39m\u001b[38;5;124mC\u001b[39m\u001b[38;5;124m'\u001b[39m):\n\u001b[1;32m    202\u001b[0m \u001b[38;5;250m    \u001b[39m\u001b[38;5;124;03m\"\"\"\u001b[39;00m\n\u001b[1;32m    203\u001b[0m \u001b[38;5;124;03m    Gives a new shape to an array without changing its data.\u001b[39;00m\n\u001b[1;32m    204\u001b[0m \n\u001b[0;32m   (...)\u001b[0m\n\u001b[1;32m    283\u001b[0m \u001b[38;5;124;03m           [5, 6]])\u001b[39;00m\n\u001b[1;32m    284\u001b[0m \u001b[38;5;124;03m    \"\"\"\u001b[39;00m\n\u001b[0;32m--> 285\u001b[0m     \u001b[38;5;28;01mreturn\u001b[39;00m \u001b[43m_wrapfunc\u001b[49m\u001b[43m(\u001b[49m\u001b[43ma\u001b[49m\u001b[43m,\u001b[49m\u001b[43m \u001b[49m\u001b[38;5;124;43m'\u001b[39;49m\u001b[38;5;124;43mreshape\u001b[39;49m\u001b[38;5;124;43m'\u001b[39;49m\u001b[43m,\u001b[49m\u001b[43m \u001b[49m\u001b[43mnewshape\u001b[49m\u001b[43m,\u001b[49m\u001b[43m \u001b[49m\u001b[43morder\u001b[49m\u001b[38;5;241;43m=\u001b[39;49m\u001b[43morder\u001b[49m\u001b[43m)\u001b[49m\n",
      "File \u001b[0;32m/usr/lib/python3/dist-packages/numpy/core/fromnumeric.py:59\u001b[0m, in \u001b[0;36m_wrapfunc\u001b[0;34m(obj, method, *args, **kwds)\u001b[0m\n\u001b[1;32m     56\u001b[0m     \u001b[38;5;28;01mreturn\u001b[39;00m _wrapit(obj, method, \u001b[38;5;241m*\u001b[39margs, \u001b[38;5;241m*\u001b[39m\u001b[38;5;241m*\u001b[39mkwds)\n\u001b[1;32m     58\u001b[0m \u001b[38;5;28;01mtry\u001b[39;00m:\n\u001b[0;32m---> 59\u001b[0m     \u001b[38;5;28;01mreturn\u001b[39;00m \u001b[43mbound\u001b[49m\u001b[43m(\u001b[49m\u001b[38;5;241;43m*\u001b[39;49m\u001b[43margs\u001b[49m\u001b[43m,\u001b[49m\u001b[43m \u001b[49m\u001b[38;5;241;43m*\u001b[39;49m\u001b[38;5;241;43m*\u001b[39;49m\u001b[43mkwds\u001b[49m\u001b[43m)\u001b[49m\n\u001b[1;32m     60\u001b[0m \u001b[38;5;28;01mexcept\u001b[39;00m \u001b[38;5;167;01mTypeError\u001b[39;00m:\n\u001b[1;32m     61\u001b[0m     \u001b[38;5;66;03m# A TypeError occurs if the object does have such a method in its\u001b[39;00m\n\u001b[1;32m     62\u001b[0m     \u001b[38;5;66;03m# class, but its signature is not identical to that of NumPy's. This\u001b[39;00m\n\u001b[0;32m   (...)\u001b[0m\n\u001b[1;32m     66\u001b[0m     \u001b[38;5;66;03m# Call _wrapit from within the except clause to ensure a potential\u001b[39;00m\n\u001b[1;32m     67\u001b[0m     \u001b[38;5;66;03m# exception has a traceback chain.\u001b[39;00m\n\u001b[1;32m     68\u001b[0m     \u001b[38;5;28;01mreturn\u001b[39;00m _wrapit(obj, method, \u001b[38;5;241m*\u001b[39margs, \u001b[38;5;241m*\u001b[39m\u001b[38;5;241m*\u001b[39mkwds)\n",
      "\u001b[0;31mValueError\u001b[0m: cannot reshape array of size 1 into shape (2,1)"
     ]
    }
   ],
   "source": [
    "tensormethod(3)"
   ]
  },
  {
   "cell_type": "markdown",
   "id": "022bc974",
   "metadata": {},
   "source": [
    "The problem with CNOT and axes and tensor representation"
   ]
  },
  {
   "cell_type": "code",
   "execution_count": 37,
   "id": "6c90948a",
   "metadata": {},
   "outputs": [
    {
     "data": {
      "text/plain": [
       "array([[1, 0],\n",
       "       [0, 1]])"
      ]
     },
     "execution_count": 37,
     "metadata": {},
     "output_type": "execute_result"
    }
   ],
   "source": [
    "np.dot(CNOT,np.ndarray.flatten(state[1:3])).reshape(2,2)#,axes=1)"
   ]
  },
  {
   "cell_type": "code",
   "execution_count": null,
   "id": "3e781302",
   "metadata": {},
   "outputs": [],
   "source": []
  }
 ],
 "metadata": {
  "kernelspec": {
   "display_name": "Python 3 (ipykernel)",
   "language": "python",
   "name": "python3"
  },
  "language_info": {
   "codemirror_mode": {
    "name": "ipython",
    "version": 3
   },
   "file_extension": ".py",
   "mimetype": "text/x-python",
   "name": "python",
   "nbconvert_exporter": "python",
   "pygments_lexer": "ipython3",
   "version": "3.12.3"
  }
 },
 "nbformat": 4,
 "nbformat_minor": 5
}
