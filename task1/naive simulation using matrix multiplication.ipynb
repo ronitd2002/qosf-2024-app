{
 "cells": [
  {
   "cell_type": "markdown",
   "id": "524dcc17",
   "metadata": {},
   "source": [
    "# Naive implementation of statevector simulation"
   ]
  },
  {
   "cell_type": "code",
   "execution_count": 1,
   "id": "c4f91fdf",
   "metadata": {},
   "outputs": [],
   "source": [
    "import numpy as np\n",
    "import matplotlib.pyplot as plt\n",
    "import time"
   ]
  },
  {
   "cell_type": "code",
   "execution_count": 2,
   "id": "fdfc0ce3",
   "metadata": {},
   "outputs": [],
   "source": [
    "# Gate Definitions\n",
    "X = np.array([[0, 1], [1, 0]])\n",
    "H = np.array([[1, 1], [1, -1]]) / np.sqrt(2)\n",
    "I = np.eye(2)\n",
    "CNOT = np.array([[1, 0, 0, 0],\n",
    "                 [0, 1, 0, 0],\n",
    "                 [0, 0, 0, 1],\n",
    "                 [0, 0, 1, 0]])"
   ]
  },
  {
   "cell_type": "code",
   "execution_count": 3,
   "id": "bf0fe9e6",
   "metadata": {},
   "outputs": [],
   "source": [
    "import pennylane as qml\n",
    "import pennylane.numpy as np"
   ]
  },
  {
   "cell_type": "markdown",
   "id": "d3b230ae",
   "metadata": {},
   "source": [
    "#### Quantum Circuit simulation using Pennylane"
   ]
  },
  {
   "cell_type": "code",
   "execution_count": 7,
   "id": "83038470",
   "metadata": {},
   "outputs": [],
   "source": [
    "def apply_quantum(qubits):\n",
    "    dev = qml.device(\"lightning.qubit\", wires=qubits)\n",
    "\n",
    "    @qml.qnode(dev)\n",
    "    def circuit(qubits):\n",
    "        for wire in range(qubits):\n",
    "            qml.QubitUnitary(X, wires=wire)\n",
    "            qml.QubitUnitary(H, wires=wire)\n",
    "        for wire in range(qubits-1):\n",
    "            qml.QubitUnitary(CNOT, wires=[wire,wire+1])\n",
    "        return qml.state()\n",
    "    \n",
    "    #print(qml.draw(circuit)(qubits))\n",
    "    state = circuit(qubits)\n",
    "    return state"
   ]
  },
  {
   "cell_type": "markdown",
   "id": "85b35fba",
   "metadata": {},
   "source": [
    "Examples"
   ]
  },
  {
   "cell_type": "code",
   "execution_count": 5,
   "id": "a8ce4df7",
   "metadata": {},
   "outputs": [
    {
     "name": "stdout",
     "output_type": "stream",
     "text": [
      "0: ──U(M0)──U(M1)─╭U(M2)───────────────┤  State\n",
      "1: ──U(M0)──U(M1)─╰U(M2)─╭U(M2)────────┤  State\n",
      "2: ──U(M0)──U(M1)────────╰U(M2)─╭U(M2)─┤  State\n",
      "3: ──U(M0)──U(M1)───────────────╰U(M2)─┤  State\n",
      "\n",
      "M0 = \n",
      "[[0 1]\n",
      " [1 0]]\n",
      "M1 = \n",
      "[[ 0.70710678  0.70710678]\n",
      " [ 0.70710678 -0.70710678]]\n",
      "M2 = \n",
      "[[1 0 0 0]\n",
      " [0 1 0 0]\n",
      " [0 0 0 1]\n",
      " [0 0 1 0]]\n"
     ]
    },
    {
     "data": {
      "text/plain": [
       "array([ 0.25+0.j, -0.25+0.j,  0.25+0.j, -0.25+0.j,  0.25+0.j, -0.25+0.j,\n",
       "        0.25+0.j, -0.25+0.j,  0.25+0.j, -0.25+0.j,  0.25+0.j, -0.25+0.j,\n",
       "        0.25+0.j, -0.25+0.j,  0.25+0.j, -0.25+0.j])"
      ]
     },
     "execution_count": 5,
     "metadata": {},
     "output_type": "execute_result"
    }
   ],
   "source": [
    "# Run Circuit with Matrix Multiplication\n",
    "state1 = apply_quantum(4)\n",
    "state1"
   ]
  },
  {
   "cell_type": "markdown",
   "id": "c847177f",
   "metadata": {},
   "source": [
    "M0 = $\\sigma_X$ , M1 = Hadamard, M2 = CNOT"
   ]
  },
  {
   "cell_type": "code",
   "execution_count": 6,
   "id": "d443a1ea",
   "metadata": {},
   "outputs": [
    {
     "name": "stdout",
     "output_type": "stream",
     "text": [
      "0: ──U(M0)──U(M1)─╭U(M2)──────────────────────┤  State\n",
      "1: ──U(M0)──U(M1)─╰U(M2)─╭U(M2)───────────────┤  State\n",
      "2: ──U(M0)──U(M1)────────╰U(M2)─╭U(M2)────────┤  State\n",
      "3: ──U(M0)──U(M1)───────────────╰U(M2)─╭U(M2)─┤  State\n",
      "4: ──U(M0)──U(M1)──────────────────────╰U(M2)─┤  State\n",
      "\n",
      "M0 = \n",
      "[[0 1]\n",
      " [1 0]]\n",
      "M1 = \n",
      "[[ 0.70710678  0.70710678]\n",
      " [ 0.70710678 -0.70710678]]\n",
      "M2 = \n",
      "[[1 0 0 0]\n",
      " [0 1 0 0]\n",
      " [0 0 0 1]\n",
      " [0 0 1 0]]\n"
     ]
    },
    {
     "data": {
      "text/plain": [
       "array([ 0.1767767+0.j, -0.1767767+0.j,  0.1767767+0.j, -0.1767767+0.j,\n",
       "        0.1767767+0.j, -0.1767767+0.j,  0.1767767+0.j, -0.1767767+0.j,\n",
       "        0.1767767+0.j, -0.1767767+0.j,  0.1767767+0.j, -0.1767767+0.j,\n",
       "        0.1767767+0.j, -0.1767767+0.j,  0.1767767+0.j, -0.1767767+0.j,\n",
       "        0.1767767+0.j, -0.1767767+0.j,  0.1767767+0.j, -0.1767767+0.j,\n",
       "        0.1767767+0.j, -0.1767767+0.j,  0.1767767+0.j, -0.1767767+0.j,\n",
       "        0.1767767+0.j, -0.1767767+0.j,  0.1767767+0.j, -0.1767767+0.j,\n",
       "        0.1767767+0.j, -0.1767767+0.j,  0.1767767+0.j, -0.1767767+0.j])"
      ]
     },
     "execution_count": 6,
     "metadata": {},
     "output_type": "execute_result"
    }
   ],
   "source": [
    "state2 = apply_quantum(5)\n",
    "state2"
   ]
  },
  {
   "cell_type": "markdown",
   "id": "a63af42a",
   "metadata": {},
   "source": [
    "### Runtime plot"
   ]
  },
  {
   "cell_type": "code",
   "execution_count": 8,
   "id": "5b0ee1ed",
   "metadata": {},
   "outputs": [],
   "source": [
    "# Runtime Plot\n",
    "qubits = range(1, 25)\n",
    "times = []\n",
    "states = []\n",
    "for n in qubits:\n",
    "    start = time.time()\n",
    "    states.append(apply_quantum(n))\n",
    "    times.append(time.time() - start)"
   ]
  },
  {
   "cell_type": "code",
   "execution_count": 9,
   "id": "a216d005",
   "metadata": {},
   "outputs": [
    {
     "data": {
      "image/png": "[encoded data removed]",
      "text/plain": [
       "<Figure size 1200x480 with 1 Axes>"
      ]
     },
     "metadata": {},
     "output_type": "display_data"
    }
   ],
   "source": [
    "plt.style.use(\"seaborn-v0_8-dark-palette\")\n",
    "plt.figure().set_figwidth(12)\n",
    "plt.grid()\n",
    "plt.plot(qubits, times,marker = \".\",ls = \"--\",c=\"b\")\n",
    "plt.xlabel('Number of Qubits')\n",
    "plt.ylabel('Runtime (s)')\n",
    "plt.show()"
   ]
  },
  {
   "cell_type": "code",
   "execution_count": null,
   "id": "f243d592",
   "metadata": {},
   "outputs": [],
   "source": []
  },
  {
   "cell_type": "markdown",
   "id": "47aefe25",
   "metadata": {},
   "source": [
    "# Task 1 : Subtask 1"
   ]
  },
  {
   "cell_type": "markdown",
   "id": "8a6037ef",
   "metadata": {},
   "source": [
    "### Using only matrix multiplication"
   ]
  },
  {
   "cell_type": "markdown",
   "id": "6ae533e8",
   "metadata": {},
   "source": [
    "In this section we are using qiskit for obtaining the n qubit matrices for subsequent application of CNOT gates. Without this functionality in the statevector representation it is very hard to obtain the matrix representations for subsequent CNOT application for $n$-qubit statevectors of size $2^{n}$. We use an appropriate sized matrix for another implementation wihout using qiskit in latter sections which will give us a fair idea of growth rate of computational load as a function of increasing number of qubits but it will compromise the accuracy of the states after the application of CNOT. The qiskit based implementation gives accurate statevectors on the other hand which is the primary motivation of presenting this section below."
   ]
  },
  {
   "cell_type": "code",
   "execution_count": 36,
   "id": "a82a3a28",
   "metadata": {},
   "outputs": [],
   "source": [
    "# so we already have our operators, now we will calculate time required for computation.\n",
    "def init_state(qubits):\n",
    "    state = [1+0j,0]\n",
    "    for _ in range(qubits-1):\n",
    "        state = np.kron(state,[1,0])\n",
    "    return state"
   ]
  },
  {
   "cell_type": "code",
   "execution_count": 37,
   "id": "65031d91",
   "metadata": {},
   "outputs": [
    {
     "name": "stdout",
     "output_type": "stream",
     "text": [
      "16\n"
     ]
    },
    {
     "data": {
      "text/plain": [
       "tensor([1.+0.j, 0.+0.j, 0.+0.j, 0.+0.j, 0.+0.j, 0.+0.j, 0.+0.j, 0.+0.j,\n",
       "        0.+0.j, 0.+0.j, 0.+0.j, 0.+0.j, 0.+0.j, 0.+0.j, 0.+0.j, 0.+0.j], requires_grad=True)"
      ]
     },
     "execution_count": 37,
     "metadata": {},
     "output_type": "execute_result"
    }
   ],
   "source": [
    "print(len(init_state(4)))\n",
    "init_state(4)"
   ]
  },
  {
   "cell_type": "code",
   "execution_count": 67,
   "id": "f5083627",
   "metadata": {},
   "outputs": [],
   "source": [
    "from qiskit import QuantumCircuit, transpile\n",
    "from qiskit_aer import Aer, AerSimulator\n",
    "from qiskit.quantum_info import Operator\n",
    "\n",
    "# function to calculate the cnot cascaded cnot operator for multiple qubits\n",
    "def cnot_op(qubits):\n",
    "    c = QuantumCircuit(qubits)\n",
    "    for i in range(qubits-1):\n",
    "        c.cx(i+1,i)\n",
    "    print(c)\n",
    "    matrix = Operator.from_circuit(c)\n",
    "    return np.transpose(matrix.data)"
   ]
  },
  {
   "cell_type": "code",
   "execution_count": 68,
   "id": "45e6cbfc",
   "metadata": {},
   "outputs": [
    {
     "name": "stdout",
     "output_type": "stream",
     "text": [
      "sample: cnot operator for 2 qubits\n",
      "     ┌───┐\n",
      "q_0: ┤ X ├\n",
      "     └─┬─┘\n",
      "q_1: ──■──\n",
      "          \n"
     ]
    },
    {
     "data": {
      "text/plain": [
       "tensor([[1.+0.j, 0.+0.j, 0.+0.j, 0.+0.j],\n",
       "        [0.+0.j, 1.+0.j, 0.+0.j, 0.+0.j],\n",
       "        [0.+0.j, 0.+0.j, 0.+0.j, 1.+0.j],\n",
       "        [0.+0.j, 0.+0.j, 1.+0.j, 0.+0.j]], requires_grad=True)"
      ]
     },
     "execution_count": 68,
     "metadata": {},
     "output_type": "execute_result"
    }
   ],
   "source": [
    "print(\"sample: cnot operator for 2 qubits\")\n",
    "cnot_op(2)"
   ]
  },
  {
   "cell_type": "code",
   "execution_count": 69,
   "id": "8442998e",
   "metadata": {},
   "outputs": [
    {
     "name": "stdout",
     "output_type": "stream",
     "text": [
      "     ┌───┐          \n",
      "q_0: ┤ X ├──────────\n",
      "     └─┬─┘┌───┐     \n",
      "q_1: ──■──┤ X ├─────\n",
      "          └─┬─┘┌───┐\n",
      "q_2: ───────■──┤ X ├\n",
      "               └─┬─┘\n",
      "q_3: ────────────■──\n",
      "                    \n"
     ]
    },
    {
     "data": {
      "text/plain": [
       "tensor([[1.+0.j, 0.+0.j, 0.+0.j, 0.+0.j, 0.+0.j, 0.+0.j, 0.+0.j, 0.+0.j,\n",
       "         0.+0.j, 0.+0.j, 0.+0.j, 0.+0.j, 0.+0.j, 0.+0.j, 0.+0.j, 0.+0.j],\n",
       "        [0.+0.j, 1.+0.j, 0.+0.j, 0.+0.j, 0.+0.j, 0.+0.j, 0.+0.j, 0.+0.j,\n",
       "         0.+0.j, 0.+0.j, 0.+0.j, 0.+0.j, 0.+0.j, 0.+0.j, 0.+0.j, 0.+0.j],\n",
       "        [0.+0.j, 0.+0.j, 0.+0.j, 1.+0.j, 0.+0.j, 0.+0.j, 0.+0.j, 0.+0.j,\n",
       "         0.+0.j, 0.+0.j, 0.+0.j, 0.+0.j, 0.+0.j, 0.+0.j, 0.+0.j, 0.+0.j],\n",
       "        [0.+0.j, 0.+0.j, 1.+0.j, 0.+0.j, 0.+0.j, 0.+0.j, 0.+0.j, 0.+0.j,\n",
       "         0.+0.j, 0.+0.j, 0.+0.j, 0.+0.j, 0.+0.j, 0.+0.j, 0.+0.j, 0.+0.j],\n",
       "        [0.+0.j, 0.+0.j, 0.+0.j, 0.+0.j, 0.+0.j, 0.+0.j, 1.+0.j, 0.+0.j,\n",
       "         0.+0.j, 0.+0.j, 0.+0.j, 0.+0.j, 0.+0.j, 0.+0.j, 0.+0.j, 0.+0.j],\n",
       "        [0.+0.j, 0.+0.j, 0.+0.j, 0.+0.j, 0.+0.j, 0.+0.j, 0.+0.j, 1.+0.j,\n",
       "         0.+0.j, 0.+0.j, 0.+0.j, 0.+0.j, 0.+0.j, 0.+0.j, 0.+0.j, 0.+0.j],\n",
       "        [0.+0.j, 0.+0.j, 0.+0.j, 0.+0.j, 0.+0.j, 1.+0.j, 0.+0.j, 0.+0.j,\n",
       "         0.+0.j, 0.+0.j, 0.+0.j, 0.+0.j, 0.+0.j, 0.+0.j, 0.+0.j, 0.+0.j],\n",
       "        [0.+0.j, 0.+0.j, 0.+0.j, 0.+0.j, 1.+0.j, 0.+0.j, 0.+0.j, 0.+0.j,\n",
       "         0.+0.j, 0.+0.j, 0.+0.j, 0.+0.j, 0.+0.j, 0.+0.j, 0.+0.j, 0.+0.j],\n",
       "        [0.+0.j, 0.+0.j, 0.+0.j, 0.+0.j, 0.+0.j, 0.+0.j, 0.+0.j, 0.+0.j,\n",
       "         0.+0.j, 0.+0.j, 0.+0.j, 0.+0.j, 1.+0.j, 0.+0.j, 0.+0.j, 0.+0.j],\n",
       "        [0.+0.j, 0.+0.j, 0.+0.j, 0.+0.j, 0.+0.j, 0.+0.j, 0.+0.j, 0.+0.j,\n",
       "         0.+0.j, 0.+0.j, 0.+0.j, 0.+0.j, 0.+0.j, 1.+0.j, 0.+0.j, 0.+0.j],\n",
       "        [0.+0.j, 0.+0.j, 0.+0.j, 0.+0.j, 0.+0.j, 0.+0.j, 0.+0.j, 0.+0.j,\n",
       "         0.+0.j, 0.+0.j, 0.+0.j, 0.+0.j, 0.+0.j, 0.+0.j, 0.+0.j, 1.+0.j],\n",
       "        [0.+0.j, 0.+0.j, 0.+0.j, 0.+0.j, 0.+0.j, 0.+0.j, 0.+0.j, 0.+0.j,\n",
       "         0.+0.j, 0.+0.j, 0.+0.j, 0.+0.j, 0.+0.j, 0.+0.j, 1.+0.j, 0.+0.j],\n",
       "        [0.+0.j, 0.+0.j, 0.+0.j, 0.+0.j, 0.+0.j, 0.+0.j, 0.+0.j, 0.+0.j,\n",
       "         0.+0.j, 0.+0.j, 1.+0.j, 0.+0.j, 0.+0.j, 0.+0.j, 0.+0.j, 0.+0.j],\n",
       "        [0.+0.j, 0.+0.j, 0.+0.j, 0.+0.j, 0.+0.j, 0.+0.j, 0.+0.j, 0.+0.j,\n",
       "         0.+0.j, 0.+0.j, 0.+0.j, 1.+0.j, 0.+0.j, 0.+0.j, 0.+0.j, 0.+0.j],\n",
       "        [0.+0.j, 0.+0.j, 0.+0.j, 0.+0.j, 0.+0.j, 0.+0.j, 0.+0.j, 0.+0.j,\n",
       "         0.+0.j, 1.+0.j, 0.+0.j, 0.+0.j, 0.+0.j, 0.+0.j, 0.+0.j, 0.+0.j],\n",
       "        [0.+0.j, 0.+0.j, 0.+0.j, 0.+0.j, 0.+0.j, 0.+0.j, 0.+0.j, 0.+0.j,\n",
       "         1.+0.j, 0.+0.j, 0.+0.j, 0.+0.j, 0.+0.j, 0.+0.j, 0.+0.j, 0.+0.j]], requires_grad=True)"
      ]
     },
     "execution_count": 69,
     "metadata": {},
     "output_type": "execute_result"
    }
   ],
   "source": [
    "cnot_op(4)"
   ]
  },
  {
   "cell_type": "code",
   "execution_count": 70,
   "id": "8fd7a672",
   "metadata": {},
   "outputs": [
    {
     "name": "stdout",
     "output_type": "stream",
     "text": [
      "     ┌───┐          \n",
      "q_0: ┤ X ├──────────\n",
      "     └─┬─┘┌───┐     \n",
      "q_1: ──■──┤ X ├─────\n",
      "          └─┬─┘┌───┐\n",
      "q_2: ───────■──┤ X ├\n",
      "               └─┬─┘\n",
      "q_3: ────────────■──\n",
      "                    \n"
     ]
    },
    {
     "data": {
      "text/plain": [
       "16"
      ]
     },
     "execution_count": 70,
     "metadata": {},
     "output_type": "execute_result"
    }
   ],
   "source": [
    "cnot_op(4).shape[0]"
   ]
  },
  {
   "cell_type": "code",
   "execution_count": 71,
   "id": "b7d8ef4b",
   "metadata": {},
   "outputs": [],
   "source": [
    "def apply_numpy(qubits):\n",
    "    initial_state = init_state(qubits)\n",
    "    xop= 1\n",
    "    hop= 1\n",
    "    cnotop = cnot_op(qubits)\n",
    "    state_vec = initial_state\n",
    "    for _ in range(qubits):\n",
    "        xop = np.kron(xop,X)\n",
    "        hop = np.kron(hop,H)\n",
    "    \n",
    "    state_vec = np.dot(np.dot(hop,xop),state_vec)\n",
    "    state_vec = np.dot(cnotop,state_vec)\n",
    "    return state_vec"
   ]
  },
  {
   "cell_type": "code",
   "execution_count": 72,
   "id": "4dd58da4",
   "metadata": {},
   "outputs": [
    {
     "name": "stdout",
     "output_type": "stream",
     "text": [
      "     ┌───┐          \n",
      "q_0: ┤ X ├──────────\n",
      "     └─┬─┘┌───┐     \n",
      "q_1: ──■──┤ X ├─────\n",
      "          └─┬─┘┌───┐\n",
      "q_2: ───────■──┤ X ├\n",
      "               └─┬─┘\n",
      "q_3: ────────────■──\n",
      "                    \n"
     ]
    },
    {
     "data": {
      "text/plain": [
       "tensor([ 0.25+0.j, -0.25+0.j,  0.25+0.j, -0.25+0.j,  0.25+0.j, -0.25+0.j,\n",
       "         0.25+0.j, -0.25+0.j,  0.25+0.j, -0.25+0.j,  0.25+0.j, -0.25+0.j,\n",
       "         0.25+0.j, -0.25+0.j,  0.25+0.j, -0.25+0.j], requires_grad=True)"
      ]
     },
     "execution_count": 72,
     "metadata": {},
     "output_type": "execute_result"
    }
   ],
   "source": [
    "# Run Circuit with Matrix Multiplication\n",
    "state2 = apply_numpy(4)\n",
    "state2"
   ]
  },
  {
   "cell_type": "code",
   "execution_count": 34,
   "id": "7b9a16af",
   "metadata": {},
   "outputs": [],
   "source": [
    "# Runtime Plot\n",
    "qubits = range(1, 12)\n",
    "times_with_qiskit = []\n",
    "states_with_qiskit = []\n",
    "for n in qubits:\n",
    "    start = time.time()\n",
    "    states_with_qiskit.append(apply_numpy(n))\n",
    "    times_with_qiskit.append(time.time() - start)"
   ]
  },
  {
   "cell_type": "code",
   "execution_count": 35,
   "id": "d8e6f13e",
   "metadata": {
    "scrolled": true
   },
   "outputs": [
    {
     "data": {
      "image/png": "[encoded data removed]",
      "text/plain": [
       "<Figure size 1200x480 with 1 Axes>"
      ]
     },
     "metadata": {},
     "output_type": "display_data"
    }
   ],
   "source": [
    "plt.style.use(\"seaborn-v0_8-dark-palette\")\n",
    "plt.figure().set_figwidth(12)\n",
    "plt.grid()\n",
    "plt.plot(qubits, times_with_qiskit,marker = \".\",ls = \"--\",c=\"b\")\n",
    "plt.xlabel('Number of Qubits')\n",
    "plt.ylabel('Runtime (s)')\n",
    "plt.show()"
   ]
  },
  {
   "cell_type": "markdown",
   "id": "433646f5",
   "metadata": {},
   "source": [
    "The simulation is run for max 12 qubits because classical matrix algrbra using the naive method beyond that limit becomes increasingly difficult."
   ]
  },
  {
   "cell_type": "markdown",
   "id": "f71348b5",
   "metadata": {},
   "source": [
    "## Without using the qiskit functionality for cnot gate"
   ]
  },
  {
   "cell_type": "code",
   "execution_count": 39,
   "id": "1501c272",
   "metadata": {},
   "outputs": [
    {
     "data": {
      "text/plain": [
       "4"
      ]
     },
     "execution_count": 39,
     "metadata": {},
     "output_type": "execute_result"
    }
   ],
   "source": [
    "np.shape(CNOT)[0]"
   ]
  },
  {
   "cell_type": "markdown",
   "id": "7cb24465",
   "metadata": {},
   "source": [
    "We define a **DIRECT SUM** function.\\\n",
    "Direct sum function which would give the matrix direct sum $c = a \\oplus b$ for operator calculation for multi qubit states which is equal to \n",
    "$c = \\begin{bmatrix} a & 0\\\\ 0 & b \\end{bmatrix}$"
   ]
  },
  {
   "cell_type": "markdown",
   "id": "e2e0343a",
   "metadata": {},
   "source": [
    "Thuis function will help us get an appropriate sized matrix for our statevectors."
   ]
  },
  {
   "cell_type": "code",
   "execution_count": 40,
   "id": "704ec944",
   "metadata": {},
   "outputs": [],
   "source": [
    "def direct_sum(a, b):\n",
    "    m1, n1 = np.shape(a)\n",
    "    m2, n2 = np.shape(b)\n",
    "    c = np.zeros((m1 + m2, n1 + n2))\n",
    "    \n",
    "    c[:m1, :n1] = a   \n",
    "    c[m1:, n1:] = b\n",
    "    return c"
   ]
  },
  {
   "cell_type": "code",
   "execution_count": 41,
   "id": "f88dc5ae",
   "metadata": {},
   "outputs": [
    {
     "data": {
      "text/plain": [
       "tensor([[1., 1., 0., 0.],\n",
       "        [1., 1., 0., 0.],\n",
       "        [0., 0., 9., 9.],\n",
       "        [0., 0., 9., 9.]], requires_grad=True)"
      ]
     },
     "execution_count": 41,
     "metadata": {},
     "output_type": "execute_result"
    }
   ],
   "source": [
    "direct_sum(np.ones((2,2)),[[9,9],[9,9]])"
   ]
  },
  {
   "cell_type": "markdown",
   "id": "2551365e",
   "metadata": {},
   "source": [
    "#### Numpy implementation without using qiskit for CNOT gate"
   ]
  },
  {
   "cell_type": "code",
   "execution_count": 42,
   "id": "ba00a70c",
   "metadata": {},
   "outputs": [],
   "source": [
    "def apply_numpy_without_qiskit(qubits):\n",
    "    initial_state = init_state(qubits)\n",
    "    xop = 1\n",
    "    hop = 1\n",
    "    cnotop = 1\n",
    "    state_vec = initial_state\n",
    "    \n",
    "    for _ in range(qubits):\n",
    "        xop = np.kron(xop,X)\n",
    "        hop = np.kron(hop,H)\n",
    "    for _ in range(qubits//2):\n",
    "        cnotop = np.kron(cnotop,CNOT)\n",
    "    \n",
    "    if not qubits%2==0 and qubits > 1:\n",
    "        dims = np.shape(cnotop)[0]\n",
    "        cnotop = direct_sum(np.eye(dims),cnotop)\n",
    "    \n",
    "    state_vec = np.dot(np.dot(hop,xop),state_vec)\n",
    "    state_vec = np.dot(cnotop,state_vec)\n",
    "    #print(cnotop)\n",
    "    return state_vec"
   ]
  },
  {
   "cell_type": "code",
   "execution_count": 43,
   "id": "e5b9a32c",
   "metadata": {},
   "outputs": [
    {
     "data": {
      "text/plain": [
       "tensor([ 0.25+0.j, -0.25+0.j,  0.25+0.j, -0.25+0.j, -0.25+0.j,  0.25+0.j,\n",
       "        -0.25+0.j,  0.25+0.j,  0.25+0.j, -0.25+0.j,  0.25+0.j, -0.25+0.j,\n",
       "        -0.25+0.j,  0.25+0.j, -0.25+0.j,  0.25+0.j], requires_grad=True)"
      ]
     },
     "execution_count": 43,
     "metadata": {},
     "output_type": "execute_result"
    }
   ],
   "source": [
    "# Run Circuit with Matrix Multiplication\n",
    "state2 = apply_numpy_without_qiskit(4)\n",
    "state2"
   ]
  },
  {
   "cell_type": "code",
   "execution_count": 44,
   "id": "84a21ba2",
   "metadata": {},
   "outputs": [
    {
     "data": {
      "text/plain": [
       "tensor([ 0.35355339+0.j, -0.35355339+0.j, -0.35355339+0.j,\n",
       "         0.35355339+0.j, -0.35355339+0.j,  0.35355339+0.j,\n",
       "        -0.35355339+0.j,  0.35355339+0.j], requires_grad=True)"
      ]
     },
     "execution_count": 44,
     "metadata": {},
     "output_type": "execute_result"
    }
   ],
   "source": [
    "# Run Circuit with Matrix Multiplication\n",
    "state3 = apply_numpy_without_qiskit(3)\n",
    "state3"
   ]
  },
  {
   "cell_type": "code",
   "execution_count": 45,
   "id": "f6fcae44",
   "metadata": {},
   "outputs": [],
   "source": [
    "# Runtime Plot\n",
    "qubits = range(1, 12)\n",
    "times_without_qiskit = []\n",
    "states_without_qiskit = []\n",
    "for n in qubits:\n",
    "    start = time.time()\n",
    "    states_without_qiskit.append(apply_numpy_without_qiskit(n))\n",
    "    times_without_qiskit.append(time.time() - start)"
   ]
  },
  {
   "cell_type": "code",
   "execution_count": 46,
   "id": "d405b1da",
   "metadata": {},
   "outputs": [
    {
     "data": {
      "image/png": "[encoded data removed]",
      "text/plain": [
       "<Figure size 1200x480 with 1 Axes>"
      ]
     },
     "metadata": {},
     "output_type": "display_data"
    }
   ],
   "source": [
    "plt.style.use(\"seaborn-v0_8-dark-palette\")\n",
    "plt.figure().set_figwidth(12)\n",
    "plt.grid()\n",
    "plt.plot(qubits, times_with_qiskit,marker = \".\",ls = \"--\",label = \"using qiskit functionality for cnot gate\")\n",
    "plt.plot(qubits, times_without_qiskit,marker = \".\",ls = \"--\",label = \"with plain numpy\")\n",
    "plt.xlabel('Number of Qubits')\n",
    "plt.ylabel('Runtime (s)')\n",
    "plt.legend()\n",
    "plt.show()"
   ]
  },
  {
   "cell_type": "markdown",
   "id": "8cecc412",
   "metadata": {},
   "source": [
    "#### A closer look at where the main diversion occurs"
   ]
  },
  {
   "cell_type": "code",
   "execution_count": 47,
   "id": "70340adf",
   "metadata": {},
   "outputs": [
    {
     "data": {
      "image/png": "[encoded data removed]",
      "text/plain": [
       "<Figure size 1200x480 with 1 Axes>"
      ]
     },
     "metadata": {},
     "output_type": "display_data"
    }
   ],
   "source": [
    "plt.style.use(\"seaborn-v0_8-dark-palette\")\n",
    "plt.figure().set_figwidth(12)\n",
    "plt.grid()\n",
    "plt.plot(qubits[8:], times_with_qiskit[8:],marker = \".\",ls = \"--\",label = \"using qiskit functionality for cnot gate\")\n",
    "plt.plot(qubits[8:], times_without_qiskit[8:],marker = \".\",ls = \"--\",label = \"with plain numpy\")\n",
    "plt.xlabel('Number of Qubits')\n",
    "plt.ylabel('Runtime (s)')\n",
    "plt.legend()\n",
    "plt.show()"
   ]
  },
  {
   "cell_type": "markdown",
   "id": "7f7bb82b",
   "metadata": {},
   "source": [
    "As expected the additional usage of qiskit to extract the CNOT gate takes slightly more time, although only for basic linear algebraic calculations still as is shown the time adds up."
   ]
  },
  {
   "cell_type": "markdown",
   "id": "0df90a6a",
   "metadata": {},
   "source": [
    "# Testing the states"
   ]
  },
  {
   "cell_type": "code",
   "execution_count": 75,
   "id": "614c27b9",
   "metadata": {},
   "outputs": [
    {
     "name": "stdout",
     "output_type": "stream",
     "text": [
      "0: ──U(M0)──U(M1)─╭U(M2)───────────────┤  State\n",
      "1: ──U(M0)──U(M1)─╰U(M2)─╭U(M2)────────┤  State\n",
      "2: ──U(M0)──U(M1)────────╰U(M2)─╭U(M2)─┤  State\n",
      "3: ──U(M0)──U(M1)───────────────╰U(M2)─┤  State\n",
      "\n",
      "M0 = \n",
      "[[0 1]\n",
      " [1 0]]\n",
      "M1 = \n",
      "[[ 0.70710678  0.70710678]\n",
      " [ 0.70710678 -0.70710678]]\n",
      "M2 = \n",
      "[[1 0 0 0]\n",
      " [0 1 0 0]\n",
      " [0 0 0 1]\n",
      " [0 0 1 0]]\n"
     ]
    }
   ],
   "source": [
    "test_1 = apply_quantum(4)"
   ]
  },
  {
   "cell_type": "code",
   "execution_count": 76,
   "id": "920c01ed",
   "metadata": {},
   "outputs": [
    {
     "name": "stdout",
     "output_type": "stream",
     "text": [
      "     ┌───┐          \n",
      "q_0: ┤ X ├──────────\n",
      "     └─┬─┘┌───┐     \n",
      "q_1: ──■──┤ X ├─────\n",
      "          └─┬─┘┌───┐\n",
      "q_2: ───────■──┤ X ├\n",
      "               └─┬─┘\n",
      "q_3: ────────────■──\n",
      "                    \n"
     ]
    }
   ],
   "source": [
    "test_2 = apply_numpy(4)"
   ]
  },
  {
   "cell_type": "code",
   "execution_count": 77,
   "id": "e8810010",
   "metadata": {},
   "outputs": [
    {
     "data": {
      "text/plain": [
       "tensor([ True,  True,  True,  True,  True,  True,  True,  True,  True,\n",
       "         True,  True,  True,  True,  True,  True,  True], requires_grad=True)"
      ]
     },
     "execution_count": 77,
     "metadata": {},
     "output_type": "execute_result"
    }
   ],
   "source": [
    "test_1 == test_2"
   ]
  },
  {
   "cell_type": "markdown",
   "id": "9496255a",
   "metadata": {},
   "source": [
    "## Validation"
   ]
  },
  {
   "cell_type": "markdown",
   "id": "a09e8daf",
   "metadata": {},
   "source": [
    "Our pennylane implementation (validation vector) is exactly equal to the numpy implementation. Hence our solution is correct."
   ]
  },
  {
   "cell_type": "code",
   "execution_count": null,
   "id": "775e6ced",
   "metadata": {},
   "outputs": [],
   "source": []
  }
 ],
 "metadata": {
  "kernelspec": {
   "display_name": "Python 3 (ipykernel)",
   "language": "python",
   "name": "python3"
  },
  "language_info": {
   "codemirror_mode": {
    "name": "ipython",
    "version": 3
   },
   "file_extension": ".py",
   "mimetype": "text/x-python",
   "name": "python",
   "nbconvert_exporter": "python",
   "pygments_lexer": "ipython3",
   "version": "3.12.3"
  }
 },
 "nbformat": 4,
 "nbformat_minor": 5
}
