{
 "cells": [
  {
   "cell_type": "markdown",
   "id": "524dcc17",
   "metadata": {},
   "source": [
    "# Naive implementation of statevector simulation"
   ]
  },
  {
   "cell_type": "code",
   "execution_count": 24,
   "id": "c4f91fdf",
   "metadata": {},
   "outputs": [],
   "source": [
    "import numpy as np\n",
    "import matplotlib.pyplot as plt\n",
    "import time"
   ]
  },
  {
   "cell_type": "code",
   "execution_count": 25,
   "id": "fdfc0ce3",
   "metadata": {},
   "outputs": [],
   "source": [
    "# Gate Definitions\n",
    "X = np.array([[0, 1], [1, 0]])\n",
    "H = np.array([[1, 1], [1, -1]]) / np.sqrt(2)\n",
    "I = np.eye(2)\n",
    "CNOT = np.array([[1, 0, 0, 0],\n",
    "                 [0, 1, 0, 0],\n",
    "                 [0, 0, 0, 1],\n",
    "                 [0, 0, 1, 0]])"
   ]
  },
  {
   "cell_type": "code",
   "execution_count": 26,
   "id": "bf0fe9e6",
   "metadata": {},
   "outputs": [],
   "source": [
    "import pennylane as qml\n",
    "#import pennylane.numpy as np"
   ]
  },
  {
   "cell_type": "markdown",
   "id": "d3b230ae",
   "metadata": {},
   "source": [
    "#### Quantum Circuit simulation using Pennylane"
   ]
  },
  {
   "cell_type": "code",
   "execution_count": 27,
   "id": "83038470",
   "metadata": {},
   "outputs": [],
   "source": [
    "def apply_quantum(qubits):\n",
    "    dev = qml.device(\"default.qubit\", wires=qubits)\n",
    "\n",
    "    @qml.qnode(dev)\n",
    "    def circuit(qubits):\n",
    "        for wire in range(qubits-1):\n",
    "            qml.QubitUnitary(X, wires=wire)\n",
    "            qml.QubitUnitary(H, wires=wire)\n",
    "            qml.QubitUnitary(CNOT, wires=[wire,wire+1])\n",
    "        qml.QubitUnitary(X, wires=qubits-1)\n",
    "        qml.QubitUnitary(H, wires=qubits-1)\n",
    "        return qml.state()\n",
    "    \n",
    "    state = circuit(qubits)\n",
    "    return state"
   ]
  },
  {
   "cell_type": "code",
   "execution_count": 28,
   "id": "a8ce4df7",
   "metadata": {},
   "outputs": [
    {
     "data": {
      "text/plain": [
       "tensor([ 0.25+0.j, -0.25+0.j, -0.25+0.j, -0.25+0.j, -0.25+0.j,  0.25+0.j,\n",
       "        -0.25+0.j, -0.25+0.j, -0.25+0.j,  0.25+0.j,  0.25+0.j,  0.25+0.j,\n",
       "        -0.25+0.j,  0.25+0.j, -0.25+0.j, -0.25+0.j], requires_grad=True)"
      ]
     },
     "execution_count": 28,
     "metadata": {},
     "output_type": "execute_result"
    }
   ],
   "source": [
    "# Run Circuit with Matrix Multiplication\n",
    "state1 = apply_quantum(4)\n",
    "state1"
   ]
  },
  {
   "cell_type": "code",
   "execution_count": 29,
   "id": "5b0ee1ed",
   "metadata": {},
   "outputs": [
    {
     "data": {
      "image/png": "[encoded data removed]",
      "text/plain": [
       "<Figure size 640x480 with 1 Axes>"
      ]
     },
     "metadata": {},
     "output_type": "display_data"
    }
   ],
   "source": [
    "# Runtime Plot\n",
    "qubits = range(1, 12)\n",
    "times = []\n",
    "states = []\n",
    "for n in qubits:\n",
    "    start = time.time()\n",
    "    states.append(apply_quantum(n))\n",
    "    times.append(time.time() - start)\n",
    "\n",
    "plt.plot(qubits, times,marker = \".\",ls = \"--\",c=\"b\")\n",
    "plt.xlabel('Number of Qubits')\n",
    "plt.ylabel('Runtime (s)')\n",
    "plt.show()"
   ]
  },
  {
   "cell_type": "markdown",
   "id": "8a6037ef",
   "metadata": {},
   "source": [
    "### Using only matrix multiplication"
   ]
  },
  {
   "cell_type": "code",
   "execution_count": 30,
   "id": "3b099c9e",
   "metadata": {},
   "outputs": [],
   "source": [
    "def direct_sum(a, b):\n",
    "    m1, n1 = a.shape\n",
    "    m2, n2 = b.shape\n",
    "    c = np.zeros((m1 + m2, n1 + n2))\n",
    "    \n",
    "    c[:m1, :n1] = a   \n",
    "    c[m1:, n1:] = b\n",
    "    return c"
   ]
  },
  {
   "cell_type": "code",
   "execution_count": 31,
   "id": "a82a3a28",
   "metadata": {},
   "outputs": [],
   "source": [
    "# so we already have our operators, now we will calculate time required for computation.\n",
    "\n",
    "def init_state(qubits):\n",
    "    state = [1,0]\n",
    "    for _ in range(qubits-1):\n",
    "        state = np.kron(state,[1,0])\n",
    "    return state"
   ]
  },
  {
   "cell_type": "code",
   "execution_count": 32,
   "id": "f5083627",
   "metadata": {},
   "outputs": [],
   "source": [
    "from qiskit import QuantumCircuit, transpile\n",
    "from qiskit_aer import Aer, AerSimulator\n",
    "from qiskit.quantum_info import Operator\n",
    "\n",
    "def cnot_op(qubits):\n",
    "    c = QuantumCircuit(qubits)\n",
    "    for i in range(qubits-1):\n",
    "        c.cx(i+1,i)  \n",
    "    #gate = c.to_gate()\n",
    "    #matrix = c.to_matrix()\n",
    "    matrix = Operator.from_circuit(c)\n",
    "    return matrix.data"
   ]
  },
  {
   "cell_type": "code",
   "execution_count": 33,
   "id": "45e6cbfc",
   "metadata": {},
   "outputs": [
    {
     "name": "stdout",
     "output_type": "stream",
     "text": [
      "[[1.+0.j 0.+0.j 0.+0.j 0.+0.j]\n",
      " [0.+0.j 1.+0.j 0.+0.j 0.+0.j]\n",
      " [0.+0.j 0.+0.j 0.+0.j 1.+0.j]\n",
      " [0.+0.j 0.+0.j 1.+0.j 0.+0.j]]\n"
     ]
    }
   ],
   "source": [
    "print(cnot_op(2))"
   ]
  },
  {
   "cell_type": "code",
   "execution_count": 34,
   "id": "b7d8ef4b",
   "metadata": {},
   "outputs": [],
   "source": [
    "def apply_numpy(qubits):\n",
    "    initial = init_state(qubits)\n",
    "    xop= 1\n",
    "    hop= 1\n",
    "    cnotop = cnot_op(qubits)\n",
    "    for _ in range(qubits):\n",
    "        xop = np.kron(xop,X)\n",
    "        hop = np.kron(hop,H)\n",
    "    \n",
    "    state_vec = np.dot(xop,initial)\n",
    "    state_vec = np.dot(hop,state_vec)\n",
    "    state_vec = np.dot(cnotop,state_vec)\n",
    "    \n",
    "    return state_vec"
   ]
  },
  {
   "cell_type": "code",
   "execution_count": 35,
   "id": "4dd58da4",
   "metadata": {},
   "outputs": [
    {
     "data": {
      "text/plain": [
       "array([ 0.25+0.j, -0.25+0.j,  0.25+0.j, -0.25+0.j, -0.25+0.j,  0.25+0.j,\n",
       "       -0.25+0.j,  0.25+0.j,  0.25+0.j, -0.25+0.j,  0.25+0.j, -0.25+0.j,\n",
       "       -0.25+0.j,  0.25+0.j, -0.25+0.j,  0.25+0.j])"
      ]
     },
     "execution_count": 35,
     "metadata": {},
     "output_type": "execute_result"
    }
   ],
   "source": [
    "# Run Circuit with Matrix Multiplication\n",
    "state2 = apply_numpy(4)\n",
    "state2"
   ]
  },
  {
   "cell_type": "code",
   "execution_count": 36,
   "id": "7b9a16af",
   "metadata": {},
   "outputs": [],
   "source": [
    "# Runtime Plot\n",
    "qubits = range(1, 12)\n",
    "times = []\n",
    "states = []\n",
    "for n in qubits:\n",
    "    start = time.time()\n",
    "    states.append(apply_numpy(n))\n",
    "    times.append(time.time() - start)"
   ]
  },
  {
   "cell_type": "markdown",
   "id": "6f0187cd",
   "metadata": {},
   "source": [
    "## Tensor method"
   ]
  },
  {
   "cell_type": "markdown",
   "id": "ed2d5b90",
   "metadata": {},
   "source": [
    "In this case instead of using the numpy method we use the tensor method where ibstead of using a 1D vector we use tensor shapes. Therefore instead of representing $|00\\rangle$ as `[1,0,0,0]`we instead represent it as `[[1,0],[1,0]]`."
   ]
  },
  {
   "cell_type": "code",
   "execution_count": 45,
   "id": "4aea1da3",
   "metadata": {},
   "outputs": [
    {
     "data": {
      "text/plain": [
       "array([[[[1, 0],\n",
       "         [0, 0]],\n",
       "\n",
       "        [[0, 0],\n",
       "         [0, 0]]],\n",
       "\n",
       "\n",
       "       [[[0, 0],\n",
       "         [0, 0]],\n",
       "\n",
       "        [[0, 0],\n",
       "         [0, 0]]]])"
      ]
     },
     "execution_count": 45,
     "metadata": {},
     "output_type": "execute_result"
    }
   ],
   "source": [
    "num_qubits = 4\n",
    "state_tensor = np.reshape([1]+[0]*15, (2,) * num_qubits)\n",
    "state_tensor"
   ]
  },
  {
   "cell_type": "code",
   "execution_count": 46,
   "id": "1934caf3",
   "metadata": {},
   "outputs": [],
   "source": [
    "def tensor_apply(state, gate, target, n):\n",
    "    axes = [target] + list(range(target)) + list(range(target + 1, n))\n",
    "    gate_expanded = np.tensordot(gate, state, axes=(1, target))\n",
    "    return np.reshape(gate_expanded, state.shape)"
   ]
  },
  {
   "cell_type": "code",
   "execution_count": 58,
   "id": "a23832db",
   "metadata": {},
   "outputs": [],
   "source": [
    "# def twoqubitapply(state, two_qubit_gate, control, target, n):\n",
    "#     state = np.tensordot(two_qubit_gate, state, axes=([1, 2], [control, target]))"
   ]
  },
  {
   "cell_type": "code",
   "execution_count": 59,
   "id": "ed756c40",
   "metadata": {},
   "outputs": [],
   "source": [
    "def run_tensor_circuit(n):\n",
    "    state = np.zeros((2,) * n)\n",
    "    state[(0,) * n] = 1\n",
    "    state = tensor_apply(state, X, 0, n)\n",
    "    state = tensor_apply(state, H, 0, n)\n",
    "    # state = twoqubitapply(state, CNOT, 0, 1, n)\n",
    "    return state"
   ]
  },
  {
   "cell_type": "code",
   "execution_count": 60,
   "id": "549622fd",
   "metadata": {},
   "outputs": [],
   "source": [
    "qubits_tensor = range(1, 25)\n",
    "times_tensor = []\n",
    "states_tensor = []\n",
    "for n in qubits_tensor:\n",
    "    start = time.time()\n",
    "    states_tensor.append(run_tensor_circuit(n))    \n",
    "    times_tensor.append(time.time() - start)"
   ]
  },
  {
   "cell_type": "code",
   "execution_count": 61,
   "id": "cdaf87e3",
   "metadata": {},
   "outputs": [
    {
     "data": {
      "image/png": "[encoded data removed]",
      "text/plain": [
       "<Figure size 640x480 with 1 Axes>"
      ]
     },
     "metadata": {},
     "output_type": "display_data"
    }
   ],
   "source": [
    "plt.plot(qubits_tensor, times_tensor, label=\"Tensor Multiplication\",marker = \".\",ls = \"--\",c=\"b\")\n",
    "#plt.plot(qubits, times, label=\"Matrix Multiplication\",marker = \".\",ls = \"--\",c=\"black\")\n",
    "plt.xlabel('Number of Qubits')\n",
    "plt.ylabel('Runtime (s)')\n",
    "plt.legend()\n",
    "plt.show()"
   ]
  },
  {
   "cell_type": "code",
   "execution_count": 62,
   "id": "847524fe",
   "metadata": {},
   "outputs": [
    {
     "data": {
      "image/png": "[encoded data removed]",
      "text/plain": [
       "<Figure size 640x480 with 1 Axes>"
      ]
     },
     "metadata": {},
     "output_type": "display_data"
    }
   ],
   "source": [
    "plt.plot(qubits, times_tensor[:11], label=\"Tensor Multiplication\",marker = \".\",ls = \"--\",c=\"b\")\n",
    "plt.plot(qubits, times, label=\"Matrix Multiplication\",marker = \".\",ls = \"--\",c=\"black\")\n",
    "plt.xlabel('Number of Qubits')\n",
    "plt.ylabel('Runtime (s)')\n",
    "plt.legend()\n",
    "plt.show()"
   ]
  },
  {
   "cell_type": "markdown",
   "id": "f8c99f8f",
   "metadata": {},
   "source": [
    "## Bonus"
   ]
  },
  {
   "cell_type": "markdown",
   "id": "06a1b809",
   "metadata": {},
   "source": [
    "1. Sample from the final states of the statevector or tensor representation\n",
    "2. Calculate exact expvals from them in the form of $\\langle \\psi | Op | \\psi \\rangle$"
   ]
  },
  {
   "cell_type": "markdown",
   "id": "8f9db278",
   "metadata": {},
   "source": [
    "#### Question 1"
   ]
  },
  {
   "cell_type": "code",
   "execution_count": 63,
   "id": "932751d7",
   "metadata": {},
   "outputs": [],
   "source": [
    "states = [state/ np.linalg.norm(state) for state in states]\n",
    "states_tensor = [state_tensor/ np.linalg.norm(state_tensor) for state_tensor in states_tensor]"
   ]
  },
  {
   "cell_type": "markdown",
   "id": "997205d8",
   "metadata": {},
   "source": [
    "In tensor representation"
   ]
  },
  {
   "cell_type": "code",
   "execution_count": null,
   "id": "efc1e4fd",
   "metadata": {},
   "outputs": [],
   "source": [
    "number = np.random.randint(100)\n",
    "def samples(number):\n",
    "    index = np.random.randint(qubits)\n",
    "    \n",
    "    qubits = len(states_tensor[index])\n",
    "    "
   ]
  },
  {
   "cell_type": "code",
   "execution_count": null,
   "id": "d49bc377",
   "metadata": {},
   "outputs": [],
   "source": [
    "sampled_state = np.random.choice(len(probabilities), p=probabilities)"
   ]
  },
  {
   "cell_type": "markdown",
   "id": "d4993598",
   "metadata": {},
   "source": [
    "#### Question 2"
   ]
  },
  {
   "cell_type": "code",
   "execution_count": 64,
   "id": "95ee0081",
   "metadata": {},
   "outputs": [],
   "source": [
    "def expectation_value(state, operator):\n",
    "    return np.dot(np.conj(state), np.dot(operator, state))"
   ]
  },
  {
   "cell_type": "code",
   "execution_count": null,
   "id": "5b2557b2",
   "metadata": {},
   "outputs": [],
   "source": []
  }
 ],
 "metadata": {
  "kernelspec": {
   "display_name": "Python 3 (ipykernel)",
   "language": "python",
   "name": "python3"
  },
  "language_info": {
   "codemirror_mode": {
    "name": "ipython",
    "version": 3
   },
   "file_extension": ".py",
   "mimetype": "text/x-python",
   "name": "python",
   "nbconvert_exporter": "python",
   "pygments_lexer": "ipython3",
   "version": "3.12.3"
  }
 },
 "nbformat": 4,
 "nbformat_minor": 5
}
