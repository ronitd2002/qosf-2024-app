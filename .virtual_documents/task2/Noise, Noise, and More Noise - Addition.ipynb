








import numpy as np
from qiskit import QuantumCircuit, transpile, ClassicalRegister
from qiskit.quantum_info import Pauli
from qiskit.circuit import Gate
from qiskit.circuit.library import XGate, YGate, ZGate, CXGate, CYGate, CZGate
from qiskit_aer import AerSimulator, StatevectorSimulator, Aer
from qiskit.providers.basic_provider import BasicSimulator
from qiskit.visualization import plot_histogram
from qiskit.quantum_info import Statevector

import matplotlib.pyplot as plt





def qft(circuit,n):
    n = circuit.num_qubits
    for i in range(n):
        circuit.h(i)
        for j in range(i + 1, n):
            circuit.cp(np.pi / 2**(j - i), j, i)
        #circuit.barrier()
    #for i in range(n // 2):
        #circuit.swap(i, n - i - 1)
    return circuit

def iqft(circuit,n):
    n = circuit.num_qubits
    circuit = qft(circuit,n)
    return circuit.inverse()





meas = list(range(2*3))
meas, meas[-3:][::-1], meas[:3]


def quantum_sum(a, b, n):
    #n = max(len(format(a, 'b')), len(format(a, 'b')))
    circuit = QuantumCircuit(n*2, n)
    #init the states
    for i in range(n):
        if (a >> i) & 1:
            circuit.x(n-i-1)
        if (b >> i) & 1:
            circuit.x(n-(i + n)-1)
    
    qft_op = QuantumCircuit(n,name="qft")
    qft_op = qft(qft_op,n)
    qft_op.to_gate()
    circuit.append(qft_op,list(range(n,2*n)))
    
    for i in range(n):
        #circuit.h(i)
        for j in range(i, n):
            circuit.cp(np.pi / 2**(j - i), j, i+n)
        #circuit.barrier()
    
    iqft_op = QuantumCircuit(n,name="iqft")
    iqft_op = iqft(iqft_op,n)
    iqft_op.to_gate()
    circuit.append(iqft_op,list(range(n,2*n)))
    
    l = list(range(2*n))
    circuit.measure(l[-n:][::-1], l[:n])
    return circuit


"""def add_meas(qc,n):
    qc.measure(range(n,2*n), range(n))
    return qc
"""
qc = quantum_sum(3, 4, 3)
qc.draw('mpl')


sim = AerSimulator()
transpiled = transpile(qc, sim, optimization_level=2)
result = sim.run(transpiled).result()
counts_ideal = result.get_counts()
plot_histogram(counts_ideal, color='crimson', title= "ideal simulation counts")








qc = quantum_sum(8,6,4)

sim = AerSimulator()
transpiled = transpile(qc, sim, optimization_level=2)
result = sim.run(transpiled).result()
counts_ideal = result.get_counts()
plot_histogram(counts_ideal, color='crimson', title= "ideal simulation counts")








format(129,'b'), format(59,'b'), len(format(129,'b')), 129+59, format(129+59,'b')


qc = quantum_sum(129,59,8)

sim = AerSimulator()
transpiled = transpile(qc, sim, optimization_level=2)
result = sim.run(transpiled).result()
counts_ideal = result.get_counts()
plot_histogram(counts_ideal, color='crimson', title= "ideal simulation counts")








format(1000,'b'), format(20,'b'), len(format(1000,'b')), format(1000+20,'b')


qc = quantum_sum(1000,20,10)

sim = AerSimulator()
transpiled = transpile(qc, sim, optimization_level=2)
result = sim.run(transpiled).result()
counts_ideal = result.get_counts()
plot_histogram(counts_ideal, color='crimson', title= "ideal simulation counts")


list(dict(counts_ideal).keys())[0], list(dict(counts_ideal).keys())[0] == format(1000+20,'b')








def quantum_sum(a, b, n):
    circuit = QuantumCircuit(n*2, n)
    for i in range(n):
        if (a >> i) & 1:
            circuit.x(n-i-1)
        if (b >> i) & 1:
            circuit.x(n-(i + n)-1)
    qft_op = QuantumCircuit(n,name="qft")
    qft_op = qft(qft_op,n)
    qft_op.to_gate()
    circuit.append(qft_op,list(range(n,2*n)))
    for i in range(n):
        for j in range(i, n):
            circuit.cp(np.pi / 2**(j - i), j, i+n)
    iqft_op = QuantumCircuit(n,name="iqft")
    iqft_op = iqft(iqft_op,n)
    iqft_op.to_gate()
    circuit.append(iqft_op,list(range(n,2*n)))
    return circuit

pauli_gates = {'X': XGate(), 'Y': YGate(), 'Z': ZGate()}
controlled_pauli_gates = {'CX': CXGate(), 'CY': CYGate(), 'CZ': CZGate()}

def add_noise(circuit, alpha, beta, n):
    noisy_circuit = QuantumCircuit(2*n, n)
    for instr, qargs, _ in circuit:
        noisy_circuit.append(instr, qargs)
        noise_prob = alpha if instr.num_qubits == 1 else beta
        if np.random.rand() < noise_prob and instr.num_qubits == 1:
            noise_gate = pauli_gates[np.random.choice(['X', 'Y', 'Z'])]
            noisy_circuit.append(noise_gate, [qargs[0]])
        elif instr.num_qubits == 2 and np.random.rand() < beta:
            noise_gate = controlled_pauli_gates[np.random.choice(['CX', 'CY', 'CZ'])]
            noisy_circuit.append(noise_gate, qargs)
    return noisy_circuit

def measurements(qc,n):
    l = list(range(2*n))
    qc.measure(l[-n:][::-1], l[:n])
    return qc


ideal = measurements(quantum_sum(3, 11, 5),5)
with_noise = measurements(add_noise(quantum_sum(3, 11, 5), alpha=0.4, beta=0.27, n=5),5)





ideal.draw('mpl')


print("SPOT THE DIFFERENCES BETWEEN THE TWO")
with_noise.draw('mpl')


transpiled1 = transpile(ideal, sim, basis_gates=basis, optimization_level=2)
transpiled2 = transpile(with_noise, sim, basis_gates=basis, optimization_level=2)
transpiled1.draw('mpl') # in gate basis of the system qpu


transpiled2.draw('mpl')


from qiskit_aer import AerSimulator, StatevectorSimulator, Aer

sim = AerSimulator()
basis = ['cx', 'id', 'rz', 'sx', 'x']

transpiled1 = transpile(ideal, sim, basis_gates=basis, optimization_level=2)
transpiled2 = transpile(with_noise, sim, basis_gates=basis, optimization_level=2)

result1 = sim.run(transpiled1).result()
result2 = sim.run(transpiled2).result()

counts_ideal = result1.get_counts()
counts_noise = result2.get_counts()

plot_histogram([counts_ideal,counts_noise], color=['crimson','midnightblue'], figsize=(15,5), legend = ['without noise','with noise'], title= "ideal simulation counts")


ideal_state = Statevector.from_label('0' * quantum_sum(25, 38, 6).num_qubits)
ideal_state = state.evolve(quantum_sum(25, 38, 6))

#sanity check
np.array(ideal_state) == np.ones(np.array(ideal_state).shape)


noise_state = Statevector.from_label('0' * quantum_sum(25, 38, 6).num_qubits)
noise_state = state.evolve(add_noise(quantum_sum(25, 38, 6), alpha=0.4, beta=0.27, n=6))


fidelity = state_fidelity(ideal_state, noise_state)
fidelity





[num1,num2] = np.random.choice(50,2)
reqd_bits = len(format(num1+num2,'b'))
num1, num2, reqd_bits


ideal = quantum_sum(num1, num2, reqd_bits)
#with_noise = add_noise(quantum_sum(num1, num2, reqd_bits), alpha=0.4, beta=0.27, n=reqd_bits)
#ideal.draw('mpl')
ideal_state = Statevector.from_label('0' * quantum_sum(25, 38, 6).num_qubits)
ideal_state = state.evolve(ideal)
#ideal_state

ramp_n = 12
alphas = np.linspace(0, .4, ramp_n)
betas = np.linspace(0, .25, ramp_n)


fidelities = []

for alpha, beta in zip(alphas, betas):
    noise_state = Statevector.from_label('0' * ideal.num_qubits)
    noise_state = state.evolve(add_noise(ideal, alpha, beta, n=reqd_bits))
    
    fidelity = state_fidelity(ideal_state, noise_state)
    fidelities.append(fidelity)

np.array(fidelities)


xaxis = [f"{"{:.2f}".format(alphaval)},{"{:.2f}".format(betaval)}" for alphaval,betaval in zip(alphas,betas)]
plt.figure().set_figwidth(18)
plt.grid()
plt.plot(xaxis,fidelities,marker = ".",ls = "--",c="k",label = "fidelities as a function of increasing noise")
plt.xlabel('Increasing single gate and double gate noise')
plt.ylabel('Fidelity variation')
plt.legend()
plt.show()





ideal = quantum_sum(num1, num2, reqd_bits)
#with_noise = add_noise(quantum_sum(num1, num2, reqd_bits), alpha=0.4, beta=0.27, n=reqd_bits)
#ideal.draw('mpl')
ideal_state = Statevector.from_label('0' * quantum_sum(25, 38, 6).num_qubits)
ideal_state = state.evolve(ideal)
#ideal_state

ramp_n = 12
alphas = np.linspace(.11, .15, ramp_n)
betas = np.linspace(.07, .09, ramp_n)


fidelities = []

for alpha, beta in zip(alphas, betas):
    noise_state = Statevector.from_label('0' * ideal.num_qubits)
    noise_state = state.evolve(add_noise(ideal, alpha, beta, n=reqd_bits))
    
    fidelity = state_fidelity(ideal_state, noise_state)
    fidelities.append(fidelity)

np.array(fidelities), np.array(fidelities).shape


len(xaxis)


xaxis = [f"{"{:.2f}".format(alphaval)},{"{:.2f}".format(betaval)}" for alphaval,betaval in zip(alphas,betas)]
plt.figure().set_figwidth(18)
plt.grid()
plt.plot(xaxis,fidelities,marker = ".",ls = "--",c="k",label = "fidelities as a function of increasing noise")
plt.xlabel('Increasing single gate and double gate noise')
plt.ylabel('Fidelity variation')
plt.legend()
plt.show()



























