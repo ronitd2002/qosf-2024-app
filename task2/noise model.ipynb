{
 "cells": [
  {
   "cell_type": "code",
   "execution_count": 1,
   "id": "abcf0c53",
   "metadata": {},
   "outputs": [],
   "source": [
    "import numpy as np\n",
    "from qiskit import QuantumCircuit\n",
    "from qiskit.circuit import Gate\n",
    "\n",
    "# Pauli Gates as custom quantum operations\n",
    "pauli_gates = {'X': Gate(\"x\", 1, []), 'Y': Gate(\"y\", 1, []), 'Z': Gate(\"z\", 1, [])}\n",
    "\n",
    "def add_noise(circuit, alpha, beta):\n",
    "    noisy_circuit = QuantumCircuit(circuit.num_qubits)\n",
    "    for instr, qargs, _ in circuit:\n",
    "        noisy_circuit.append(instr, qargs)\n",
    "        noise_prob = alpha if instr.num_qubits == 1 else beta\n",
    "        if np.random.rand() < noise_prob:\n",
    "            noise_gate = pauli_gates[np.random.choice(['X', 'Y', 'Z'])]\n",
    "            noisy_circuit.append(noise_gate, [qargs[0]])\n",
    "    return noisy_circuit"
   ]
  },
  {
   "cell_type": "code",
   "execution_count": 2,
   "id": "50339639",
   "metadata": {},
   "outputs": [],
   "source": [
    "from qiskit import transpile\n",
    "\n",
    "def transform_to_basis(circuit):\n",
    "    basis = ['cx', 'id', 'rz', 'sx', 'x']\n",
    "    return transpile(circuit, basis_gates=basis)\n"
   ]
  },
  {
   "cell_type": "code",
   "execution_count": 3,
   "id": "bc004cf1",
   "metadata": {},
   "outputs": [],
   "source": [
    "def qft(circuit, n):\n",
    "    for i in range(n):\n",
    "        circuit.h(i)\n",
    "        for j in range(i + 1, n):\n",
    "            circuit.cp(np.pi / 2**(j - i), j, i)\n",
    "    for i in range(n // 2):\n",
    "        circuit.swap(i, n - i - 1)\n",
    "\n",
    "def inverse_qft(circuit, n):\n",
    "    for i in range(n // 2):\n",
    "        circuit.swap(i, n - i - 1)\n",
    "    for i in range(n - 1, -1, -1):\n",
    "        for j in range(i - 1, -1, -1):\n",
    "            circuit.cp(-np.pi / 2**(i - j), i, j)\n",
    "        circuit.h(i)\n",
    "\n",
    "def quantum_sum(a, b, n):\n",
    "    circuit = QuantumCircuit(2 * n)\n",
    "    for i in range(n):\n",
    "        if (a >> i) & 1:\n",
    "            circuit.x(i)\n",
    "        if (b >> i) & 1:\n",
    "            circuit.x(i + n)\n",
    "    qft(circuit, n)\n",
    "    for i in range(n):\n",
    "        circuit.cx(i + n, i)\n",
    "    inverse_qft(circuit, n)\n",
    "    return circuit"
   ]
  },
  {
   "cell_type": "code",
   "execution_count": 4,
   "id": "714aaa23",
   "metadata": {},
   "outputs": [
    {
     "ename": "NameError",
     "evalue": "name 'qiskit' is not defined",
     "output_type": "error",
     "traceback": [
      "\u001b[0;31m---------------------------------------------------------------------------\u001b[0m",
      "\u001b[0;31mNameError\u001b[0m                                 Traceback (most recent call last)",
      "Cell \u001b[0;32mIn[4], line 11\u001b[0m\n\u001b[1;32m      8\u001b[0m noisy_qc \u001b[38;5;241m=\u001b[39m add_noise(transformed_qc, alpha\u001b[38;5;241m=\u001b[39m\u001b[38;5;241m0.05\u001b[39m, beta\u001b[38;5;241m=\u001b[39m\u001b[38;5;241m0.1\u001b[39m)\n\u001b[1;32m     10\u001b[0m \u001b[38;5;66;03m# Simulation and analysis\u001b[39;00m\n\u001b[0;32m---> 11\u001b[0m backend \u001b[38;5;241m=\u001b[39m \u001b[43mqiskit\u001b[49m\u001b[38;5;241m.\u001b[39mAer\u001b[38;5;241m.\u001b[39mget_backend(\u001b[38;5;124m'\u001b[39m\u001b[38;5;124mstatevector_simulator\u001b[39m\u001b[38;5;124m'\u001b[39m)\n\u001b[1;32m     12\u001b[0m state_no_noise \u001b[38;5;241m=\u001b[39m qi\u001b[38;5;241m.\u001b[39mStatevector\u001b[38;5;241m.\u001b[39mfrom_instruction(transformed_qc)\u001b[38;5;241m.\u001b[39mprobabilities_dict()\n\u001b[1;32m     13\u001b[0m state_with_noise \u001b[38;5;241m=\u001b[39m qi\u001b[38;5;241m.\u001b[39mStatevector\u001b[38;5;241m.\u001b[39mfrom_instruction(noisy_qc)\u001b[38;5;241m.\u001b[39mprobabilities_dict()\n",
      "\u001b[0;31mNameError\u001b[0m: name 'qiskit' is not defined"
     ]
    }
   ],
   "source": [
    "import qiskit.quantum_info as qi\n",
    "\n",
    "# Example circuit with a = 1, b = 1, n = 2\n",
    "qc = quantum_sum(1, 1, 2)\n",
    "\n",
    "# Convert to gate basis and add noise\n",
    "transformed_qc = transform_to_basis(qc)\n",
    "noisy_qc = add_noise(transformed_qc, alpha=0.05, beta=0.1)\n",
    "\n",
    "# Simulation and analysis\n",
    "backend = qiskit.Aer.get_backend('statevector_simulator')\n",
    "state_no_noise = qi.Statevector.from_instruction(transformed_qc).probabilities_dict()\n",
    "state_with_noise = qi.Statevector.from_instruction(noisy_qc).probabilities_dict()\n",
    "\n",
    "# Print Results\n",
    "print(\"State without noise:\", state_no_noise)\n",
    "print(\"State with noise:\", state_with_noise)\n"
   ]
  },
  {
   "cell_type": "code",
   "execution_count": null,
   "id": "451c2c15",
   "metadata": {},
   "outputs": [],
   "source": []
  }
 ],
 "metadata": {
  "kernelspec": {
   "display_name": "Python 3 (ipykernel)",
   "language": "python",
   "name": "python3"
  },
  "language_info": {
   "codemirror_mode": {
    "name": "ipython",
    "version": 3
   },
   "file_extension": ".py",
   "mimetype": "text/x-python",
   "name": "python",
   "nbconvert_exporter": "python",
   "pygments_lexer": "ipython3",
   "version": "3.12.3"
  }
 },
 "nbformat": 4,
 "nbformat_minor": 5
}
