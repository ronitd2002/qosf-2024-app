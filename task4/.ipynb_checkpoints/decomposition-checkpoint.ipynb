{
 "cells": [
  {
   "cell_type": "code",
   "execution_count": 1,
   "id": "2c613d12",
   "metadata": {},
   "outputs": [
    {
     "data": {
      "text/html": [
       "<pre style=\"word-wrap: normal;white-space: pre;background: #fff0;line-height: 1.1;font-family: &quot;Courier New&quot;,Courier,monospace\">global phase: 4.2673\n",
       "                                                                ┌───┐»\n",
       "q_0: ───────────────────────────────────────────────────────────┤ X ├»\n",
       "                                                ┌───┐┌─────────┐└─┬─┘»\n",
       "q_1: ───────────────────────────────────────────┤ X ├┤ U2(0,π) ├──■──»\n",
       "                                ┌───┐┌─────────┐└─┬─┘├─────────┤     »\n",
       "q_2: ───────────────────────────┤ X ├┤ U2(0,π) ├──■──┤ U1(π/4) ├─────»\n",
       "                ┌───┐┌─────────┐└─┬─┘├─────────┤     └─────────┘     »\n",
       "q_3: ───────────┤ X ├┤ U2(0,π) ├──■──┤ U1(π/2) ├─────────────────────»\n",
       "     ┌─────────┐└─┬─┘├─────────┤     └─────────┘                     »\n",
       "q_4: ┤ U2(0,π) ├──■──┤ U1(π/3) ├─────────────────────────────────────»\n",
       "     └─────────┘     └─────────┘                                     »\n",
       "«     ┌─────────┐\n",
       "«q_0: ┤ U2(0,π) ├\n",
       "«     ├─────────┤\n",
       "«q_1: ┤ U1(π/5) ├\n",
       "«     └─────────┘\n",
       "«q_2: ───────────\n",
       "«                \n",
       "«q_3: ───────────\n",
       "«                \n",
       "«q_4: ───────────\n",
       "«                </pre>"
      ],
      "text/plain": [
       "global phase: 4.2673\n",
       "                                                                ┌───┐»\n",
       "q_0: ───────────────────────────────────────────────────────────┤ X ├»\n",
       "                                                ┌───┐┌─────────┐└─┬─┘»\n",
       "q_1: ───────────────────────────────────────────┤ X ├┤ U2(0,π) ├──■──»\n",
       "                                ┌───┐┌─────────┐└─┬─┘├─────────┤     »\n",
       "q_2: ───────────────────────────┤ X ├┤ U2(0,π) ├──■──┤ U1(π/4) ├─────»\n",
       "                ┌───┐┌─────────┐└─┬─┘├─────────┤     └─────────┘     »\n",
       "q_3: ───────────┤ X ├┤ U2(0,π) ├──■──┤ U1(π/2) ├─────────────────────»\n",
       "     ┌─────────┐└─┬─┘├─────────┤     └─────────┘                     »\n",
       "q_4: ┤ U2(0,π) ├──■──┤ U1(π/3) ├─────────────────────────────────────»\n",
       "     └─────────┘     └─────────┘                                     »\n",
       "«     ┌─────────┐\n",
       "«q_0: ┤ U2(0,π) ├\n",
       "«     ├─────────┤\n",
       "«q_1: ┤ U1(π/5) ├\n",
       "«     └─────────┘\n",
       "«q_2: ───────────\n",
       "«                \n",
       "«q_3: ───────────\n",
       "«                \n",
       "«q_4: ───────────\n",
       "«                "
      ]
     },
     "execution_count": 1,
     "metadata": {},
     "output_type": "execute_result"
    }
   ],
   "source": [
    "from qiskit import QuantumCircuit, transpile\n",
    "import numpy as np\n",
    "\n",
    "# Parameters\n",
    "size = 5\n",
    "state_values = [22, 17, 27, 12]\n",
    "state_vector = [0] * 2**size\n",
    "\n",
    "# Generate binary representation of state values and populate state vector\n",
    "for s in state_values:\n",
    "    state_vector[s] = 0.5\n",
    "state_vector = np.asarray(state_vector)\n",
    "\n",
    "# Quantum circuit for state preparation\n",
    "qc = QuantumCircuit(size)\n",
    "\n",
    "# Apply gates to construct required states\n",
    "qc.h(4)\n",
    "qc.cx(4, 3)\n",
    "qc.rz(np.pi/3, 4)\n",
    "qc.h(3)\n",
    "qc.cx(3, 2)\n",
    "qc.rz(np.pi/2, 3)\n",
    "qc.h(2)\n",
    "qc.cx(2, 1)\n",
    "qc.rz(np.pi/4, 2)\n",
    "qc.h(1)\n",
    "qc.cx(1, 0)\n",
    "qc.rz(np.pi/5, 1)\n",
    "qc.h(0)\n",
    "\n",
    "# Transpile with constraints\n",
    "qc = transpile(qc, basis_gates=['x', 'h', 'rz', 'cx'], optimization_level=3)\n",
    "\n",
    "# Display the circuit\n",
    "qc.decompose().draw()\n"
   ]
  },
  {
   "cell_type": "code",
   "execution_count": null,
   "id": "3dabda47",
   "metadata": {},
   "outputs": [],
   "source": []
  }
 ],
 "metadata": {
  "kernelspec": {
   "display_name": "Python 3 (ipykernel)",
   "language": "python",
   "name": "python3"
  },
  "language_info": {
   "codemirror_mode": {
    "name": "ipython",
    "version": 3
   },
   "file_extension": ".py",
   "mimetype": "text/x-python",
   "name": "python",
   "nbconvert_exporter": "python",
   "pygments_lexer": "ipython3",
   "version": "3.12.3"
  }
 },
 "nbformat": 4,
 "nbformat_minor": 5
}
